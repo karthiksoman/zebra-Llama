{
 "cells": [
  {
   "cell_type": "code",
   "execution_count": 21,
   "id": "dc6af211-0aab-4577-ba59-b62eccde9684",
   "metadata": {},
   "outputs": [],
   "source": [
    "import pandas as pd\n",
    "import sys\n",
    "sys.path.insert(0, '..')\n",
    "from utility import *\n",
    "\n",
    "import matplotlib.pyplot as plt\n",
    "import seaborn as sns"
   ]
  },
  {
   "cell_type": "code",
   "execution_count": 6,
   "id": "e05e93b9-748a-44ec-b5e7-59f9ad99d931",
   "metadata": {},
   "outputs": [],
   "source": [
    "DATA_PATH = os.path.join(REPO_ROOT_PATH, 'eds_data/qiagen-bkb-ai-eds-data-slice.tsv')\n"
   ]
  },
  {
   "cell_type": "code",
   "execution_count": 7,
   "id": "7308ced3-7192-47db-9aeb-a64a7fdc22c9",
   "metadata": {},
   "outputs": [],
   "source": [
    "graph_df = pd.read_csv(DATA_PATH, sep='\\t')"
   ]
  },
  {
   "cell_type": "code",
   "execution_count": 36,
   "id": "a49c22ce-46c6-42f1-9d76-1d82c512cf2f",
   "metadata": {},
   "outputs": [
    {
     "data": {
      "text/plain": [
       "Index(['Unnamed: 0', 'concept_1_id', 'concept_1_name', 'concept_1_label',\n",
       "       'concept_2_id', 'concept_2_name', 'concept_2_label', 'source_type',\n",
       "       'source_name', 'source_id', 'semantic_confidence', 'title', 'section',\n",
       "       'sentence_no', 'date'],\n",
       "      dtype='object')"
      ]
     },
     "execution_count": 36,
     "metadata": {},
     "output_type": "execute_result"
    }
   ],
   "source": [
    "graph_df.columns"
   ]
  },
  {
   "cell_type": "code",
   "execution_count": 92,
   "id": "dc92be36-6d9e-4960-9651-27a138209939",
   "metadata": {},
   "outputs": [
    {
     "data": {
      "text/html": [
       "<div>\n",
       "<style scoped>\n",
       "    .dataframe tbody tr th:only-of-type {\n",
       "        vertical-align: middle;\n",
       "    }\n",
       "\n",
       "    .dataframe tbody tr th {\n",
       "        vertical-align: top;\n",
       "    }\n",
       "\n",
       "    .dataframe thead th {\n",
       "        text-align: right;\n",
       "    }\n",
       "</style>\n",
       "<table border=\"1\" class=\"dataframe\">\n",
       "  <thead>\n",
       "    <tr style=\"text-align: right;\">\n",
       "      <th></th>\n",
       "      <th>Unnamed: 0</th>\n",
       "      <th>concept_1_id</th>\n",
       "      <th>concept_1_name</th>\n",
       "      <th>concept_1_label</th>\n",
       "      <th>concept_2_id</th>\n",
       "      <th>concept_2_name</th>\n",
       "      <th>concept_2_label</th>\n",
       "      <th>source_type</th>\n",
       "      <th>source_name</th>\n",
       "      <th>source_id</th>\n",
       "      <th>semantic_confidence</th>\n",
       "      <th>title</th>\n",
       "      <th>section</th>\n",
       "      <th>sentence_no</th>\n",
       "      <th>date</th>\n",
       "    </tr>\n",
       "  </thead>\n",
       "  <tbody>\n",
       "    <tr>\n",
       "      <th>0</th>\n",
       "      <td>0</td>\n",
       "      <td>EFOHP0004308</td>\n",
       "      <td>Ventricular arrhythmia</td>\n",
       "      <td>Phenotype</td>\n",
       "      <td>MESHD004535</td>\n",
       "      <td>Ehlers-Danlos Syndrome</td>\n",
       "      <td>Disease</td>\n",
       "      <td>Publications</td>\n",
       "      <td>PubMed Central</td>\n",
       "      <td>PMC8298566</td>\n",
       "      <td>0.8</td>\n",
       "      <td>Atrial fibrillation—a complex polygenetic disease</td>\n",
       "      <td>Results and discussion</td>\n",
       "      <td>114</td>\n",
       "      <td>2019-10-30</td>\n",
       "    </tr>\n",
       "    <tr>\n",
       "      <th>1</th>\n",
       "      <td>1</td>\n",
       "      <td>MESHD004535</td>\n",
       "      <td>Ehlers-Danlos Syndrome</td>\n",
       "      <td>Disease</td>\n",
       "      <td>MESHD030342</td>\n",
       "      <td>Genetic Diseases, Inborn</td>\n",
       "      <td>Disease</td>\n",
       "      <td>Grants</td>\n",
       "      <td>NIH Grants</td>\n",
       "      <td>7359669</td>\n",
       "      <td>1.0</td>\n",
       "      <td>Cell-Free Assembly of Organized Collagen Arrays</td>\n",
       "      <td>Abstract</td>\n",
       "      <td>4</td>\n",
       "      <td>2007-03-01</td>\n",
       "    </tr>\n",
       "    <tr>\n",
       "      <th>2</th>\n",
       "      <td>2</td>\n",
       "      <td>MESHD003103</td>\n",
       "      <td>Coloboma</td>\n",
       "      <td>Disease</td>\n",
       "      <td>MESHD004535</td>\n",
       "      <td>Ehlers-Danlos Syndrome</td>\n",
       "      <td>Disease</td>\n",
       "      <td>Publications</td>\n",
       "      <td>PubMed Central</td>\n",
       "      <td>PMC9421425</td>\n",
       "      <td>0.8</td>\n",
       "      <td>Case report: Multiple gastrointestinal perfora...</td>\n",
       "      <td>Introduction</td>\n",
       "      <td>3</td>\n",
       "      <td>2022-01-01</td>\n",
       "    </tr>\n",
       "  </tbody>\n",
       "</table>\n",
       "</div>"
      ],
      "text/plain": [
       "   Unnamed: 0  concept_1_id          concept_1_name concept_1_label  \\\n",
       "0           0  EFOHP0004308  Ventricular arrhythmia       Phenotype   \n",
       "1           1   MESHD004535  Ehlers-Danlos Syndrome         Disease   \n",
       "2           2   MESHD003103                Coloboma         Disease   \n",
       "\n",
       "  concept_2_id            concept_2_name concept_2_label   source_type  \\\n",
       "0  MESHD004535    Ehlers-Danlos Syndrome         Disease  Publications   \n",
       "1  MESHD030342  Genetic Diseases, Inborn         Disease        Grants   \n",
       "2  MESHD004535    Ehlers-Danlos Syndrome         Disease  Publications   \n",
       "\n",
       "      source_name   source_id  semantic_confidence  \\\n",
       "0  PubMed Central  PMC8298566                  0.8   \n",
       "1      NIH Grants     7359669                  1.0   \n",
       "2  PubMed Central  PMC9421425                  0.8   \n",
       "\n",
       "                                               title                 section  \\\n",
       "0  Atrial fibrillation—a complex polygenetic disease  Results and discussion   \n",
       "1    Cell-Free Assembly of Organized Collagen Arrays                Abstract   \n",
       "2  Case report: Multiple gastrointestinal perfora...            Introduction   \n",
       "\n",
       "   sentence_no        date  \n",
       "0          114  2019-10-30  \n",
       "1            4  2007-03-01  \n",
       "2            3  2022-01-01  "
      ]
     },
     "execution_count": 92,
     "metadata": {},
     "output_type": "execute_result"
    }
   ],
   "source": [
    "graph_df.head(3)"
   ]
  },
  {
   "cell_type": "code",
   "execution_count": 135,
   "id": "34ecb363-9915-47cc-b961-f0e2936dfcda",
   "metadata": {},
   "outputs": [
    {
     "data": {
      "text/plain": [
       "array(['Phenotype', 'Disease', 'Gene', 'CellType', 'Drug',\n",
       "       'Health Condition'], dtype=object)"
      ]
     },
     "execution_count": 135,
     "metadata": {},
     "output_type": "execute_result"
    }
   ],
   "source": [
    "graph_df.concept_1_label.unique()"
   ]
  },
  {
   "cell_type": "code",
   "execution_count": 136,
   "id": "3413575d-105f-46fd-a674-632a8ee2bead",
   "metadata": {},
   "outputs": [
    {
     "data": {
      "text/plain": [
       "array(['Disease', 'Variant', 'Health Condition', 'Gene', 'Drug',\n",
       "       'CellType', 'Phenotype'], dtype=object)"
      ]
     },
     "execution_count": 136,
     "metadata": {},
     "output_type": "execute_result"
    }
   ],
   "source": [
    "graph_df.concept_2_label.unique()"
   ]
  },
  {
   "cell_type": "code",
   "execution_count": 137,
   "id": "57bf7a65-26a8-46dc-9d3b-504b50e03961",
   "metadata": {},
   "outputs": [
    {
     "data": {
      "text/plain": [
       "array(['Publications', 'Grants', 'Patents'], dtype=object)"
      ]
     },
     "execution_count": 137,
     "metadata": {},
     "output_type": "execute_result"
    }
   ],
   "source": [
    "graph_df.source_type.unique()"
   ]
  },
  {
   "cell_type": "code",
   "execution_count": 189,
   "id": "48ccd03d-d0ef-45cf-8f41-e54d3ac1a84d",
   "metadata": {},
   "outputs": [
    {
     "data": {
      "image/png": "[encoded data removed]",
      "text/plain": [
       "<Figure size 300x200 with 1 Axes>"
      ]
     },
     "metadata": {},
     "output_type": "display_data"
    }
   ],
   "source": [
    "\n",
    "\n",
    "plt.figure(figsize=(3, 2))\n",
    "\n",
    "sns.histplot(graph_df['source_type'], bins=30, kde=False)\n",
    "\n",
    "plt.title('Distribution of semantic confidence')\n",
    "plt.xlabel('source_type')\n",
    "plt.ylabel('Frequency')\n",
    "\n",
    "plt.show()\n"
   ]
  },
  {
   "cell_type": "code",
   "execution_count": 32,
   "id": "23769f13-3ff6-48a8-baed-2f8247f32f19",
   "metadata": {},
   "outputs": [
    {
     "data": {
      "image/png": "[encoded data removed]",
      "text/plain": [
       "<Figure size 300x200 with 1 Axes>"
      ]
     },
     "metadata": {},
     "output_type": "display_data"
    }
   ],
   "source": [
    "\n",
    "\n",
    "plt.figure(figsize=(3, 2))\n",
    "\n",
    "sns.histplot(graph_df['semantic_confidence'], bins=30, kde=False)\n",
    "\n",
    "plt.title('Distribution of semantic confidence')\n",
    "plt.xlabel('Semantic confidence')\n",
    "plt.ylabel('Frequency')\n",
    "\n",
    "plt.show()\n"
   ]
  },
  {
   "cell_type": "code",
   "execution_count": 154,
   "id": "a98cbd49-ca1c-49a6-959b-e0f96d010a41",
   "metadata": {},
   "outputs": [
    {
     "name": "stderr",
     "output_type": "stream",
     "text": [
      "/var/folders/p1/h56gxdhs5vgb0ztp7h4z606h0000gn/T/ipykernel_62841/2709650902.py:2: SettingWithCopyWarning: \n",
      "A value is trying to be set on a copy of a slice from a DataFrame\n",
      "\n",
      "See the caveats in the documentation: https://pandas.pydata.org/pandas-docs/stable/user_guide/indexing.html#returning-a-view-versus-a-copy\n",
      "  graph_df_high_confidence.drop_duplicates(subset=['concept_1_id', 'concept_2_id', 'title'], inplace=True)\n"
     ]
    }
   ],
   "source": [
    "graph_df_high_confidence = graph_df[graph_df.semantic_confidence >= 0.8]\n",
    "graph_df_high_confidence.drop_duplicates(subset=['concept_1_id', 'concept_2_id', 'title'], inplace=True)\n",
    "graph_df_high_confidence = graph_df_high_confidence[graph_df_high_confidence.section != 'Title']\n"
   ]
  },
  {
   "cell_type": "code",
   "execution_count": 156,
   "id": "33e2ea86-2bc2-4d63-942f-ac64d10eb819",
   "metadata": {},
   "outputs": [],
   "source": [
    "pair_counts = graph_df_high_confidence.groupby(['concept_1_id', 'concept_2_id']).size().reset_index(name='pair count')\n"
   ]
  },
  {
   "cell_type": "code",
   "execution_count": 157,
   "id": "112b6eaa-0845-4ae3-a083-67cb229033d9",
   "metadata": {},
   "outputs": [
    {
     "data": {
      "image/png": "[encoded data removed]",
      "text/plain": [
       "<Figure size 300x200 with 1 Axes>"
      ]
     },
     "metadata": {},
     "output_type": "display_data"
    }
   ],
   "source": [
    "\n",
    "\n",
    "plt.figure(figsize=(3, 2))\n",
    "\n",
    "sns.histplot(pair_counts['pair count'], bins=30, kde=False)\n",
    "\n",
    "plt.title('Distribution of pair count')\n",
    "plt.xlabel('Pair count')\n",
    "plt.ylabel('Frequency')\n",
    "\n",
    "plt.show()\n"
   ]
  },
  {
   "cell_type": "code",
   "execution_count": 159,
   "id": "a36f371f-caa5-4928-aaf1-21384f1ad80f",
   "metadata": {},
   "outputs": [
    {
     "name": "stdout",
     "output_type": "stream",
     "text": [
      "Min pair count :  1\n",
      "Max pair count :  20126\n",
      "Mean pair count :  65.61286764705882\n",
      "Median pair count :  3.0\n",
      "Std pair count :  533.2708992056098\n"
     ]
    }
   ],
   "source": [
    "print('Min pair count : ', pair_counts['pair count'].min())\n",
    "print('Max pair count : ', pair_counts['pair count'].max())\n",
    "print('Mean pair count : ', pair_counts['pair count'].mean())\n",
    "print('Median pair count : ', pair_counts['pair count'].median())\n",
    "print('Std pair count : ', pair_counts['pair count'].std())\n"
   ]
  },
  {
   "cell_type": "code",
   "execution_count": 180,
   "id": "46008718-2ecc-4900-b066-00a11cbda499",
   "metadata": {},
   "outputs": [],
   "source": [
    "pair_counts_selected = pair_counts[pair_counts['pair count'] > 3]\n"
   ]
  },
  {
   "cell_type": "code",
   "execution_count": 181,
   "id": "3ccd493f-2871-4f4b-ba92-dd0e3128016b",
   "metadata": {},
   "outputs": [],
   "source": [
    "graph_df_high_confidence_pair_selected = pd.merge(graph_df_high_confidence, pair_counts_selected, on=['concept_1_id', 'concept_2_id'])\n"
   ]
  },
  {
   "cell_type": "code",
   "execution_count": 182,
   "id": "ff34d65f-190d-42cc-b0e9-cdec1e0fdcf8",
   "metadata": {},
   "outputs": [],
   "source": [
    "group_by_columns = [\n",
    "    'concept_1_id', 'concept_1_name', 'concept_1_label',\n",
    "    'concept_2_id', 'concept_2_name', 'concept_2_label'\n",
    "]\n",
    "\n",
    "graph_df_high_confidence_pair_selected_grouped = graph_df_high_confidence_pair_selected.groupby(group_by_columns).agg({\n",
    "    'Unnamed: 0': list,\n",
    "    'source_type': list,\n",
    "    'source_name': list,\n",
    "    'source_id': list,\n",
    "    'semantic_confidence': list,\n",
    "    'title': list,\n",
    "    'section': list,\n",
    "    'sentence_no': list,\n",
    "    'date': list,\n",
    "    'pair count': list\n",
    "}).reset_index()\n",
    "\n"
   ]
  },
  {
   "cell_type": "code",
   "execution_count": 183,
   "id": "ee840d21-748a-4dbf-bcf0-6958c26fea1e",
   "metadata": {},
   "outputs": [
    {
     "data": {
      "text/plain": [
       "(2678, 16)"
      ]
     },
     "execution_count": 183,
     "metadata": {},
     "output_type": "execute_result"
    }
   ],
   "source": [
    "graph_df_high_confidence_pair_selected_grouped.shape\n"
   ]
  },
  {
   "cell_type": "code",
   "execution_count": 184,
   "id": "24dd9c8b-e4bb-41d7-bba4-11ad2235c508",
   "metadata": {},
   "outputs": [
    {
     "data": {
      "text/html": [
       "<div>\n",
       "<style scoped>\n",
       "    .dataframe tbody tr th:only-of-type {\n",
       "        vertical-align: middle;\n",
       "    }\n",
       "\n",
       "    .dataframe tbody tr th {\n",
       "        vertical-align: top;\n",
       "    }\n",
       "\n",
       "    .dataframe thead th {\n",
       "        text-align: right;\n",
       "    }\n",
       "</style>\n",
       "<table border=\"1\" class=\"dataframe\">\n",
       "  <thead>\n",
       "    <tr style=\"text-align: right;\">\n",
       "      <th></th>\n",
       "      <th>concept_1_id</th>\n",
       "      <th>concept_1_name</th>\n",
       "      <th>concept_1_label</th>\n",
       "      <th>concept_2_id</th>\n",
       "      <th>concept_2_name</th>\n",
       "      <th>concept_2_label</th>\n",
       "      <th>Unnamed: 0</th>\n",
       "      <th>source_type</th>\n",
       "      <th>source_name</th>\n",
       "      <th>source_id</th>\n",
       "      <th>semantic_confidence</th>\n",
       "      <th>title</th>\n",
       "      <th>section</th>\n",
       "      <th>sentence_no</th>\n",
       "      <th>date</th>\n",
       "      <th>pair count</th>\n",
       "    </tr>\n",
       "  </thead>\n",
       "  <tbody>\n",
       "    <tr>\n",
       "      <th>2235</th>\n",
       "      <td>MESHD004535</td>\n",
       "      <td>Ehlers-Danlos Syndrome</td>\n",
       "      <td>Disease</td>\n",
       "      <td>MESHD004827</td>\n",
       "      <td>Epilepsy</td>\n",
       "      <td>Disease</td>\n",
       "      <td>[2916, 4300, 4458, 5796, 7017, 7320, 7979, 121...</td>\n",
       "      <td>[Publications, Publications, Publications, Pub...</td>\n",
       "      <td>[PubMed, PubMed Central, PubMed, PubMed, PubMe...</td>\n",
       "      <td>[10219273, PMC7711487, 36000491, 30961343, 878...</td>\n",
       "      <td>[1.0, 1.0, 1.0, 1.0, 1.0, 1.0, 1.0, 1.0, 1.0, ...</td>\n",
       "      <td>[Epilepsy in Ehlers-Danlos syndrome., The Rela...</td>\n",
       "      <td>[Abstract, 4. Symptom Overlap between Autism a...</td>\n",
       "      <td>[1, 21, 1, 1, 3, 1, 1, 103, 1, 8]</td>\n",
       "      <td>[1999-04-29, 2020-11-12, 2022-06-30, 2019-04-0...</td>\n",
       "      <td>[10, 10, 10, 10, 10, 10, 10, 10, 10, 10]</td>\n",
       "    </tr>\n",
       "    <tr>\n",
       "      <th>2236</th>\n",
       "      <td>MESHD004535</td>\n",
       "      <td>Ehlers-Danlos Syndrome</td>\n",
       "      <td>Disease</td>\n",
       "      <td>MESHD005322</td>\n",
       "      <td>Fetal Membranes, Premature Rupture</td>\n",
       "      <td>Disease</td>\n",
       "      <td>[81, 4441, 4807, 7555, 9077, 10445, 10550, 108...</td>\n",
       "      <td>[Publications, Publications, Publications, Pub...</td>\n",
       "      <td>[PubMed Central, PubMed Central, PubMed, PubMe...</td>\n",
       "      <td>[PMC8509074, PMC7098624, 22787447, 18335242, P...</td>\n",
       "      <td>[1.0, 0.8, 0.8, 1.0, 1.0, 1.0, 1.0, 1.0, 1.0, ...</td>\n",
       "      <td>[Roles of Two Small Leucine-Rich Proteoglycans...</td>\n",
       "      <td>[3. Distribution and Functions of DCN in the P...</td>\n",
       "      <td>[46, 21, 1, 2, 12, 47, 5, 5, 9, 1, 2, 1]</td>\n",
       "      <td>[2021-08-27, 2020-01-01, 2012-04-20, 2007-08-1...</td>\n",
       "      <td>[12, 12, 12, 12, 12, 12, 12, 12, 12, 12, 12, 12]</td>\n",
       "    </tr>\n",
       "    <tr>\n",
       "      <th>2237</th>\n",
       "      <td>MESHD004535</td>\n",
       "      <td>Ehlers-Danlos Syndrome</td>\n",
       "      <td>Disease</td>\n",
       "      <td>MESHD005352</td>\n",
       "      <td>Fibromuscular Dysplasia</td>\n",
       "      <td>Disease</td>\n",
       "      <td>[390, 758, 4877, 8121, 8359, 8548, 11690, 13080]</td>\n",
       "      <td>[Publications, Publications, Publications, Pub...</td>\n",
       "      <td>[PubMed Central, PubMed Central, PubMed Centra...</td>\n",
       "      <td>[PMC3804144, PMC9809914, PMC10251557, 30623691...</td>\n",
       "      <td>[0.8, 0.8, 1.0, 1.0, 1.0, 0.8, 0.8, 0.8]</td>\n",
       "      <td>[Spontaneous Neck Hematoma in a Patient with F...</td>\n",
       "      <td>[3. Discussion, Discussion, Background, Abstra...</td>\n",
       "      <td>[15, 15, 2, 7, 11, 30, 2, 39]</td>\n",
       "      <td>[2013-01-01, 2021-12-19, 2023-01-01, 2019-01-0...</td>\n",
       "      <td>[8, 8, 8, 8, 8, 8, 8, 8]</td>\n",
       "    </tr>\n",
       "    <tr>\n",
       "      <th>2238</th>\n",
       "      <td>MESHD004535</td>\n",
       "      <td>Ehlers-Danlos Syndrome</td>\n",
       "      <td>Disease</td>\n",
       "      <td>MESHD005356</td>\n",
       "      <td>Fibromyalgia</td>\n",
       "      <td>Disease</td>\n",
       "      <td>[82, 840, 1025, 1895, 2268, 3111, 3245, 3930, ...</td>\n",
       "      <td>[Publications, Publications, Publications, Pub...</td>\n",
       "      <td>[PubMed Central, PubMed Central, PubMed Centra...</td>\n",
       "      <td>[PMC10312239, PMC9911817, PMC6452458, PMC72555...</td>\n",
       "      <td>[0.8, 1.0, 0.8, 1.0, 0.8, 1.0, 1.0, 1.0, 0.8, ...</td>\n",
       "      <td>[A novel method of assessing balance and postu...</td>\n",
       "      <td>[Introduction, 6. Discussion, DISCUSSION, Disc...</td>\n",
       "      <td>[4, 180, 23, 40, 392, 6, 1, 2, 1, 390, 52, 13,...</td>\n",
       "      <td>[2022-12-31, 2022-01-01, 2018-03-20, 2020-04-0...</td>\n",
       "      <td>[18, 18, 18, 18, 18, 18, 18, 18, 18, 18, 18, 1...</td>\n",
       "    </tr>\n",
       "    <tr>\n",
       "      <th>2239</th>\n",
       "      <td>MESHD004535</td>\n",
       "      <td>Ehlers-Danlos Syndrome</td>\n",
       "      <td>Disease</td>\n",
       "      <td>MESHD005413</td>\n",
       "      <td>Flatfoot</td>\n",
       "      <td>Disease</td>\n",
       "      <td>[1005, 1547, 8674, 13705]</td>\n",
       "      <td>[Publications, Publications, Publications, Pub...</td>\n",
       "      <td>[PubMed Central, PubMed Central, PubMed Centra...</td>\n",
       "      <td>[PMC8787077, PMC10676730, PMC3464168, PMC10519...</td>\n",
       "      <td>[0.8, 1.0, 1.0, 0.8]</td>\n",
       "      <td>[Ehlers-Danlos Syndrome in the Field of Psychi...</td>\n",
       "      <td>[Neurodevelopment Disorders and EDS, Introduct...</td>\n",
       "      <td>[5, 32, 51, 9]</td>\n",
       "      <td>[2021-01-01, 2023-08-14, 2012-01-01, 2023-01-01]</td>\n",
       "      <td>[4, 4, 4, 4]</td>\n",
       "    </tr>\n",
       "    <tr>\n",
       "      <th>...</th>\n",
       "      <td>...</td>\n",
       "      <td>...</td>\n",
       "      <td>...</td>\n",
       "      <td>...</td>\n",
       "      <td>...</td>\n",
       "      <td>...</td>\n",
       "      <td>...</td>\n",
       "      <td>...</td>\n",
       "      <td>...</td>\n",
       "      <td>...</td>\n",
       "      <td>...</td>\n",
       "      <td>...</td>\n",
       "      <td>...</td>\n",
       "      <td>...</td>\n",
       "      <td>...</td>\n",
       "      <td>...</td>\n",
       "    </tr>\n",
       "    <tr>\n",
       "      <th>2372</th>\n",
       "      <td>MESHD004535</td>\n",
       "      <td>Ehlers-Danlos Syndrome</td>\n",
       "      <td>Disease</td>\n",
       "      <td>MESHD059352</td>\n",
       "      <td>Musculoskeletal Pain</td>\n",
       "      <td>Disease</td>\n",
       "      <td>[1060, 3103, 3704, 5457, 7531, 7862, 8974, 105...</td>\n",
       "      <td>[Publications, Publications, Publications, Pub...</td>\n",
       "      <td>[PubMed, PubMed, PubMed Central, PubMed Centra...</td>\n",
       "      <td>[10722718, 37976114, PMC4009270, PMC6305640, P...</td>\n",
       "      <td>[0.8, 1.0, 1.0, 1.0, 1.0, 1.0, 1.0, 1.0, 0.8, ...</td>\n",
       "      <td>[The pro-alpha3(V) collagen chain. Complete pr...</td>\n",
       "      <td>[Abstract, Abstract, Abstract, DISCUSSION, 1. ...</td>\n",
       "      <td>[6, 1, 1, 1, 12, 1, 66, 19, 8, 28]</td>\n",
       "      <td>[2000-03-18, 2023-06-13, 2014-01-01, 2018-05-2...</td>\n",
       "      <td>[10, 10, 10, 10, 10, 10, 10, 10, 10, 10]</td>\n",
       "    </tr>\n",
       "    <tr>\n",
       "      <th>2373</th>\n",
       "      <td>MESHD004535</td>\n",
       "      <td>Ehlers-Danlos Syndrome</td>\n",
       "      <td>Disease</td>\n",
       "      <td>MESHD060725</td>\n",
       "      <td>Uterine Retroversion</td>\n",
       "      <td>Disease</td>\n",
       "      <td>[5719, 8660, 8893, 13722]</td>\n",
       "      <td>[Publications, Publications, Publications, Pub...</td>\n",
       "      <td>[PubMed, PubMed Central, PubMed Central, PubMed]</td>\n",
       "      <td>[34453356, PMC3258236, PMC10584354, 8655934]</td>\n",
       "      <td>[0.8, 1.0, 1.0, 1.0]</td>\n",
       "      <td>[Ehlers-Danlos syndrome type IV with a novel C...</td>\n",
       "      <td>[Abstract, Introduction, Introduction, Abstract]</td>\n",
       "      <td>[1, 22, 5, 3]</td>\n",
       "      <td>[2021-04-14, 2011-07-11, 2023-09-18, 1996-01-01]</td>\n",
       "      <td>[4, 4, 4, 4]</td>\n",
       "    </tr>\n",
       "    <tr>\n",
       "      <th>2374</th>\n",
       "      <td>MESHD004535</td>\n",
       "      <td>Ehlers-Danlos Syndrome</td>\n",
       "      <td>Disease</td>\n",
       "      <td>MESHD063169</td>\n",
       "      <td>Dentofacial Deformities</td>\n",
       "      <td>Disease</td>\n",
       "      <td>[162, 847, 3885, 8413]</td>\n",
       "      <td>[Publications, Publications, Publications, Pub...</td>\n",
       "      <td>[PubMed Central, PubMed, PubMed, PubMed]</td>\n",
       "      <td>[PMC8391432, 8752669, 9683580, 29450629]</td>\n",
       "      <td>[1.0, 1.0, 1.0, 1.0]</td>\n",
       "      <td>[Skeletal and Bone Mineral Density Features, G...</td>\n",
       "      <td>[2. Skeletal Abnormalities, Abstract, Abstract...</td>\n",
       "      <td>[21, 1, 1, 9]</td>\n",
       "      <td>[2021-07-13, 1996-06-01, 1998-07-31, 2018-01-07]</td>\n",
       "      <td>[4, 4, 4, 4]</td>\n",
       "    </tr>\n",
       "    <tr>\n",
       "      <th>2375</th>\n",
       "      <td>MESHD004535</td>\n",
       "      <td>Ehlers-Danlos Syndrome</td>\n",
       "      <td>Disease</td>\n",
       "      <td>MESHD063806</td>\n",
       "      <td>Myalgia</td>\n",
       "      <td>Disease</td>\n",
       "      <td>[569, 1497, 2721, 3066, 3110, 3578, 4401, 6180...</td>\n",
       "      <td>[Publications, Publications, Publications, Pub...</td>\n",
       "      <td>[PubMed Central, PubMed Central, PubMed Centra...</td>\n",
       "      <td>[PMC10613304, PMC10315819, PMC7705859, PMC8457...</td>\n",
       "      <td>[1.0, 0.8, 1.0, 0.8, 0.8, 0.8, 0.8, 1.0, 1.0, ...</td>\n",
       "      <td>[Hypersensitivity of myelinated A-fibers via t...</td>\n",
       "      <td>[Abstract, Discussion, Abstract, DISCUSSION, D...</td>\n",
       "      <td>[1, 4, 4, 7, 8, 8, 2, 2, 4, 47, 22, 2, 2, 1, 38]</td>\n",
       "      <td>[2023-01-01, 2022-11-28, 2020-01-01, 2020-09-0...</td>\n",
       "      <td>[15, 15, 15, 15, 15, 15, 15, 15, 15, 15, 15, 1...</td>\n",
       "    </tr>\n",
       "    <tr>\n",
       "      <th>2376</th>\n",
       "      <td>MESHD004535</td>\n",
       "      <td>Ehlers-Danlos Syndrome</td>\n",
       "      <td>Disease</td>\n",
       "      <td>MESHD065708</td>\n",
       "      <td>Porencephaly</td>\n",
       "      <td>Disease</td>\n",
       "      <td>[1222, 4671, 4683, 13068, 15016]</td>\n",
       "      <td>[Publications, Publications, Publications, Pub...</td>\n",
       "      <td>[PubMed Central, medRxiv, PubMed, PubMed Centr...</td>\n",
       "      <td>[PMC2575416, 10.1101/2023.09.08.23295272, 3047...</td>\n",
       "      <td>[1.0, 0.8, 1.0, 1.0, 1.0]</td>\n",
       "      <td>[The Zinc Transporter SLC39A13/ZIP13 Is Requir...</td>\n",
       "      <td>[Discussion, Discussion, Abstract, 1. Introduc...</td>\n",
       "      <td>[35, 63, 1, 3, 30]</td>\n",
       "      <td>[2008-01-01, 2023-01-01, 2018-03-27, 2023-07-1...</td>\n",
       "      <td>[5, 5, 5, 5, 5]</td>\n",
       "    </tr>\n",
       "  </tbody>\n",
       "</table>\n",
       "<p>142 rows × 16 columns</p>\n",
       "</div>"
      ],
      "text/plain": [
       "     concept_1_id          concept_1_name concept_1_label concept_2_id  \\\n",
       "2235  MESHD004535  Ehlers-Danlos Syndrome         Disease  MESHD004827   \n",
       "2236  MESHD004535  Ehlers-Danlos Syndrome         Disease  MESHD005322   \n",
       "2237  MESHD004535  Ehlers-Danlos Syndrome         Disease  MESHD005352   \n",
       "2238  MESHD004535  Ehlers-Danlos Syndrome         Disease  MESHD005356   \n",
       "2239  MESHD004535  Ehlers-Danlos Syndrome         Disease  MESHD005413   \n",
       "...           ...                     ...             ...          ...   \n",
       "2372  MESHD004535  Ehlers-Danlos Syndrome         Disease  MESHD059352   \n",
       "2373  MESHD004535  Ehlers-Danlos Syndrome         Disease  MESHD060725   \n",
       "2374  MESHD004535  Ehlers-Danlos Syndrome         Disease  MESHD063169   \n",
       "2375  MESHD004535  Ehlers-Danlos Syndrome         Disease  MESHD063806   \n",
       "2376  MESHD004535  Ehlers-Danlos Syndrome         Disease  MESHD065708   \n",
       "\n",
       "                          concept_2_name concept_2_label  \\\n",
       "2235                            Epilepsy         Disease   \n",
       "2236  Fetal Membranes, Premature Rupture         Disease   \n",
       "2237             Fibromuscular Dysplasia         Disease   \n",
       "2238                        Fibromyalgia         Disease   \n",
       "2239                            Flatfoot         Disease   \n",
       "...                                  ...             ...   \n",
       "2372                Musculoskeletal Pain         Disease   \n",
       "2373                Uterine Retroversion         Disease   \n",
       "2374             Dentofacial Deformities         Disease   \n",
       "2375                             Myalgia         Disease   \n",
       "2376                        Porencephaly         Disease   \n",
       "\n",
       "                                             Unnamed: 0  \\\n",
       "2235  [2916, 4300, 4458, 5796, 7017, 7320, 7979, 121...   \n",
       "2236  [81, 4441, 4807, 7555, 9077, 10445, 10550, 108...   \n",
       "2237   [390, 758, 4877, 8121, 8359, 8548, 11690, 13080]   \n",
       "2238  [82, 840, 1025, 1895, 2268, 3111, 3245, 3930, ...   \n",
       "2239                          [1005, 1547, 8674, 13705]   \n",
       "...                                                 ...   \n",
       "2372  [1060, 3103, 3704, 5457, 7531, 7862, 8974, 105...   \n",
       "2373                          [5719, 8660, 8893, 13722]   \n",
       "2374                             [162, 847, 3885, 8413]   \n",
       "2375  [569, 1497, 2721, 3066, 3110, 3578, 4401, 6180...   \n",
       "2376                   [1222, 4671, 4683, 13068, 15016]   \n",
       "\n",
       "                                            source_type  \\\n",
       "2235  [Publications, Publications, Publications, Pub...   \n",
       "2236  [Publications, Publications, Publications, Pub...   \n",
       "2237  [Publications, Publications, Publications, Pub...   \n",
       "2238  [Publications, Publications, Publications, Pub...   \n",
       "2239  [Publications, Publications, Publications, Pub...   \n",
       "...                                                 ...   \n",
       "2372  [Publications, Publications, Publications, Pub...   \n",
       "2373  [Publications, Publications, Publications, Pub...   \n",
       "2374  [Publications, Publications, Publications, Pub...   \n",
       "2375  [Publications, Publications, Publications, Pub...   \n",
       "2376  [Publications, Publications, Publications, Pub...   \n",
       "\n",
       "                                            source_name  \\\n",
       "2235  [PubMed, PubMed Central, PubMed, PubMed, PubMe...   \n",
       "2236  [PubMed Central, PubMed Central, PubMed, PubMe...   \n",
       "2237  [PubMed Central, PubMed Central, PubMed Centra...   \n",
       "2238  [PubMed Central, PubMed Central, PubMed Centra...   \n",
       "2239  [PubMed Central, PubMed Central, PubMed Centra...   \n",
       "...                                                 ...   \n",
       "2372  [PubMed, PubMed, PubMed Central, PubMed Centra...   \n",
       "2373   [PubMed, PubMed Central, PubMed Central, PubMed]   \n",
       "2374           [PubMed Central, PubMed, PubMed, PubMed]   \n",
       "2375  [PubMed Central, PubMed Central, PubMed Centra...   \n",
       "2376  [PubMed Central, medRxiv, PubMed, PubMed Centr...   \n",
       "\n",
       "                                              source_id  \\\n",
       "2235  [10219273, PMC7711487, 36000491, 30961343, 878...   \n",
       "2236  [PMC8509074, PMC7098624, 22787447, 18335242, P...   \n",
       "2237  [PMC3804144, PMC9809914, PMC10251557, 30623691...   \n",
       "2238  [PMC10312239, PMC9911817, PMC6452458, PMC72555...   \n",
       "2239  [PMC8787077, PMC10676730, PMC3464168, PMC10519...   \n",
       "...                                                 ...   \n",
       "2372  [10722718, 37976114, PMC4009270, PMC6305640, P...   \n",
       "2373       [34453356, PMC3258236, PMC10584354, 8655934]   \n",
       "2374           [PMC8391432, 8752669, 9683580, 29450629]   \n",
       "2375  [PMC10613304, PMC10315819, PMC7705859, PMC8457...   \n",
       "2376  [PMC2575416, 10.1101/2023.09.08.23295272, 3047...   \n",
       "\n",
       "                                    semantic_confidence  \\\n",
       "2235  [1.0, 1.0, 1.0, 1.0, 1.0, 1.0, 1.0, 1.0, 1.0, ...   \n",
       "2236  [1.0, 0.8, 0.8, 1.0, 1.0, 1.0, 1.0, 1.0, 1.0, ...   \n",
       "2237           [0.8, 0.8, 1.0, 1.0, 1.0, 0.8, 0.8, 0.8]   \n",
       "2238  [0.8, 1.0, 0.8, 1.0, 0.8, 1.0, 1.0, 1.0, 0.8, ...   \n",
       "2239                               [0.8, 1.0, 1.0, 0.8]   \n",
       "...                                                 ...   \n",
       "2372  [0.8, 1.0, 1.0, 1.0, 1.0, 1.0, 1.0, 1.0, 0.8, ...   \n",
       "2373                               [0.8, 1.0, 1.0, 1.0]   \n",
       "2374                               [1.0, 1.0, 1.0, 1.0]   \n",
       "2375  [1.0, 0.8, 1.0, 0.8, 0.8, 0.8, 0.8, 1.0, 1.0, ...   \n",
       "2376                          [1.0, 0.8, 1.0, 1.0, 1.0]   \n",
       "\n",
       "                                                  title  \\\n",
       "2235  [Epilepsy in Ehlers-Danlos syndrome., The Rela...   \n",
       "2236  [Roles of Two Small Leucine-Rich Proteoglycans...   \n",
       "2237  [Spontaneous Neck Hematoma in a Patient with F...   \n",
       "2238  [A novel method of assessing balance and postu...   \n",
       "2239  [Ehlers-Danlos Syndrome in the Field of Psychi...   \n",
       "...                                                 ...   \n",
       "2372  [The pro-alpha3(V) collagen chain. Complete pr...   \n",
       "2373  [Ehlers-Danlos syndrome type IV with a novel C...   \n",
       "2374  [Skeletal and Bone Mineral Density Features, G...   \n",
       "2375  [Hypersensitivity of myelinated A-fibers via t...   \n",
       "2376  [The Zinc Transporter SLC39A13/ZIP13 Is Requir...   \n",
       "\n",
       "                                                section  \\\n",
       "2235  [Abstract, 4. Symptom Overlap between Autism a...   \n",
       "2236  [3. Distribution and Functions of DCN in the P...   \n",
       "2237  [3. Discussion, Discussion, Background, Abstra...   \n",
       "2238  [Introduction, 6. Discussion, DISCUSSION, Disc...   \n",
       "2239  [Neurodevelopment Disorders and EDS, Introduct...   \n",
       "...                                                 ...   \n",
       "2372  [Abstract, Abstract, Abstract, DISCUSSION, 1. ...   \n",
       "2373   [Abstract, Introduction, Introduction, Abstract]   \n",
       "2374  [2. Skeletal Abnormalities, Abstract, Abstract...   \n",
       "2375  [Abstract, Discussion, Abstract, DISCUSSION, D...   \n",
       "2376  [Discussion, Discussion, Abstract, 1. Introduc...   \n",
       "\n",
       "                                            sentence_no  \\\n",
       "2235                  [1, 21, 1, 1, 3, 1, 1, 103, 1, 8]   \n",
       "2236           [46, 21, 1, 2, 12, 47, 5, 5, 9, 1, 2, 1]   \n",
       "2237                      [15, 15, 2, 7, 11, 30, 2, 39]   \n",
       "2238  [4, 180, 23, 40, 392, 6, 1, 2, 1, 390, 52, 13,...   \n",
       "2239                                     [5, 32, 51, 9]   \n",
       "...                                                 ...   \n",
       "2372                 [6, 1, 1, 1, 12, 1, 66, 19, 8, 28]   \n",
       "2373                                      [1, 22, 5, 3]   \n",
       "2374                                      [21, 1, 1, 9]   \n",
       "2375   [1, 4, 4, 7, 8, 8, 2, 2, 4, 47, 22, 2, 2, 1, 38]   \n",
       "2376                                 [35, 63, 1, 3, 30]   \n",
       "\n",
       "                                                   date  \\\n",
       "2235  [1999-04-29, 2020-11-12, 2022-06-30, 2019-04-0...   \n",
       "2236  [2021-08-27, 2020-01-01, 2012-04-20, 2007-08-1...   \n",
       "2237  [2013-01-01, 2021-12-19, 2023-01-01, 2019-01-0...   \n",
       "2238  [2022-12-31, 2022-01-01, 2018-03-20, 2020-04-0...   \n",
       "2239   [2021-01-01, 2023-08-14, 2012-01-01, 2023-01-01]   \n",
       "...                                                 ...   \n",
       "2372  [2000-03-18, 2023-06-13, 2014-01-01, 2018-05-2...   \n",
       "2373   [2021-04-14, 2011-07-11, 2023-09-18, 1996-01-01]   \n",
       "2374   [2021-07-13, 1996-06-01, 1998-07-31, 2018-01-07]   \n",
       "2375  [2023-01-01, 2022-11-28, 2020-01-01, 2020-09-0...   \n",
       "2376  [2008-01-01, 2023-01-01, 2018-03-27, 2023-07-1...   \n",
       "\n",
       "                                             pair count  \n",
       "2235           [10, 10, 10, 10, 10, 10, 10, 10, 10, 10]  \n",
       "2236   [12, 12, 12, 12, 12, 12, 12, 12, 12, 12, 12, 12]  \n",
       "2237                           [8, 8, 8, 8, 8, 8, 8, 8]  \n",
       "2238  [18, 18, 18, 18, 18, 18, 18, 18, 18, 18, 18, 1...  \n",
       "2239                                       [4, 4, 4, 4]  \n",
       "...                                                 ...  \n",
       "2372           [10, 10, 10, 10, 10, 10, 10, 10, 10, 10]  \n",
       "2373                                       [4, 4, 4, 4]  \n",
       "2374                                       [4, 4, 4, 4]  \n",
       "2375  [15, 15, 15, 15, 15, 15, 15, 15, 15, 15, 15, 1...  \n",
       "2376                                    [5, 5, 5, 5, 5]  \n",
       "\n",
       "[142 rows x 16 columns]"
      ]
     },
     "execution_count": 184,
     "metadata": {},
     "output_type": "execute_result"
    }
   ],
   "source": [
    "graph_df_high_confidence_pair_selected_grouped[graph_df_high_confidence_pair_selected_grouped.concept_1_name=='Ehlers-Danlos Syndrome']\n",
    "\n"
   ]
  },
  {
   "cell_type": "code",
   "execution_count": 185,
   "id": "dd5ba5f3-ec7c-42af-9f2e-19979f66cc74",
   "metadata": {},
   "outputs": [
    {
     "data": {
      "text/plain": [
       "'Ehlers-Danlos Syndrome'"
      ]
     },
     "execution_count": 185,
     "metadata": {},
     "output_type": "execute_result"
    }
   ],
   "source": [
    "row_index = 2375\n",
    "graph_df_high_confidence_pair_selected_grouped.iloc[row_index].concept_1_name"
   ]
  },
  {
   "cell_type": "code",
   "execution_count": 186,
   "id": "3fb9a4dc-59ff-4f6a-bc3f-6a83486e0ca8",
   "metadata": {},
   "outputs": [
    {
     "data": {
      "text/plain": [
       "'Myalgia'"
      ]
     },
     "execution_count": 186,
     "metadata": {},
     "output_type": "execute_result"
    }
   ],
   "source": [
    "graph_df_high_confidence_pair_selected_grouped.iloc[row_index].concept_2_name"
   ]
  },
  {
   "cell_type": "code",
   "execution_count": 188,
   "id": "2b83401b-2e2f-40f7-8152-016ba5f927d9",
   "metadata": {},
   "outputs": [
    {
     "data": {
      "text/plain": [
       "['Hypersensitivity of myelinated A-fibers via toll-like receptor 5 promotes mechanical allodynia in tenascin-X-deficient mice associated with Ehlers–Danlos syndrome',\n",
       " 'Case report: Complex arterial findings in vascular ehlers-danlos syndrome with a novel COL3A1 variant and death at young age',\n",
       " 'A randomised controlled trial of heavy shoulder strengthening exercise in patients with hypermobility spectrum disorder or hypermobile Ehlers-Danlos syndrome and long-lasting shoulder complaints: study protocol for the Shoulder-MOBILEX study',\n",
       " 'A novel mutation in COL3A1 associates to vascular Ehlers–Danlos syndrome with predominant musculoskeletal involvement',\n",
       " 'An Unusual Case of Ehlers-Danlos Syndrome Presenting as Proptosis',\n",
       " 'Biomarkers for Ehlers-Danlos Syndromes: There Is a Role?',\n",
       " 'Temporomandibular disorders, bite force and osseous changes of the temporomandibular joints in patients with hypermobile Ehlers‐Danlos syndrome compared to a healthy control group',\n",
       " 'Pain in Ehlers–Danlos Syndrome: A Non-Diagnostic Disabling Symptom?',\n",
       " 'Ehlers–Danlos Syndrome—Hypermobility Type: A Much Neglected Multisystemic Disorder',\n",
       " 'Human Genetic Disorders and Knockout Mice Deficient in Glycosaminoglycan',\n",
       " 'Current Knowledge of and Perspectives about the Pathogenesis of Blood Blister-like Aneurysms of the Internal Carotid Artery: A Review of the Literature',\n",
       " 'Chiropractic management of Ehlers-Danlos syndrome: a report of two cases.',\n",
       " 'A novel therapeutic strategy for Ehlers-Danlos syndrome based on nutritional supplements.',\n",
       " 'Pelvic Organ Prolapse in Ehlers-Danlos Syndrome',\n",
       " 'The Ehlers–Danlos Syndromes against the Backdrop of Inborn Errors of Metabolism']"
      ]
     },
     "execution_count": 188,
     "metadata": {},
     "output_type": "execute_result"
    }
   ],
   "source": [
    "graph_df_high_confidence_pair_selected_grouped.iloc[row_index].title"
   ]
  },
  {
   "cell_type": "code",
   "execution_count": null,
   "id": "2e8f6818-41e2-439e-a2fe-2af670a2a4d9",
   "metadata": {},
   "outputs": [],
   "source": []
  }
 ],
 "metadata": {
  "kernelspec": {
   "display_name": "Python 3 (ipykernel)",
   "language": "python",
   "name": "python3"
  },
  "language_info": {
   "codemirror_mode": {
    "name": "ipython",
    "version": 3
   },
   "file_extension": ".py",
   "mimetype": "text/x-python",
   "name": "python",
   "nbconvert_exporter": "python",
   "pygments_lexer": "ipython3",
   "version": "3.10.9"
  }
 },
 "nbformat": 4,
 "nbformat_minor": 5
}
