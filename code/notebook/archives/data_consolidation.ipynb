{
 "cells": [
  {
   "cell_type": "code",
   "execution_count": 1,
   "id": "bc990dfa-1037-4fab-9d30-ba1b502708ce",
   "metadata": {},
   "outputs": [],
   "source": [
    "import json\n",
    "import os\n",
    "import sys\n",
    "sys.path.insert(0, '..')\n",
    "from utility import REPO_ROOT_PATH, get_GPT_response\n",
    "\n"
   ]
  },
  {
   "cell_type": "code",
   "execution_count": 2,
   "id": "6a1e7bdd-9e08-4d7a-813f-277b6451f396",
   "metadata": {},
   "outputs": [],
   "source": [
    "DATA_PATH = os.path.join(REPO_ROOT_PATH, 'eds_data')\n"
   ]
  },
  {
   "cell_type": "code",
   "execution_count": 3,
   "id": "ff8f77bc-5519-4655-a012-685d89a8ac17",
   "metadata": {},
   "outputs": [],
   "source": [
    "research_paper_data_folder = 'training_data/json_files'\n",
    "inspire_data_folder = 'inspire_data'\n",
    "reddit_data_folder_1 = 'reddit_data/reddit_data_1'\n",
    "reddit_data_folder_2 = 'reddit_data/reddit_data_2/verified_data'\n",
    "\n",
    "data_folders = [\n",
    "    research_paper_data_folder,\n",
    "    inspire_data_folder,\n",
    "    reddit_data_folder_1,\n",
    "    reddit_data_folder_2\n",
    "]\n"
   ]
  },
  {
   "cell_type": "code",
   "execution_count": 9,
   "id": "4b27b595-d79d-4e96-b150-db16d2dbc910",
   "metadata": {},
   "outputs": [
    {
     "name": "stdout",
     "output_type": "stream",
     "text": [
      "inspire_data has 5290 files in it\n"
     ]
    },
    {
     "data": {
      "text/plain": [
       "{'instruction': 'What are some suggestions for managing severe stomach pain and constipation in the context of Ehlers-Danlos Syndrome (EDS)?',\n",
       " 'output': 'Individuals with EDS experiencing severe stomach pain and constipation may find relief with medications like Linzess or Amatiza, particularly if the symptoms are related to conditions like IBS-Constipation. Exploring the possibility of Mast Cell Disorders (MCAS), common in the EDS population, and considering treatments like Ranitidine and Gastrocrom could also be beneficial. Additionally, dietary supplements like calcium/magnesium/zinc should be used cautiously to avoid unintended side effects.',\n",
       " 'input': 'For individuals with EDS facing severe stomach pain and persistent constipation, options like Linzess or Amatiza may offer relief, especially if the underlying issue is related to conditions such as IBS-Constipation. Exploring the potential presence of Mast Cell Disorders (MCAS) and considering treatments like Ranitidine and Gastrocrom could provide significant improvement. It is important to be cautious with dietary supplements to prevent unexpected side effects.'}"
      ]
     },
     "execution_count": 9,
     "metadata": {},
     "output_type": "execute_result"
    }
   ],
   "source": [
    "data_folders = [inspire_data_folder]\n",
    "files_list = []\n",
    "for data_folder in data_folders:\n",
    "    files = os.listdir(os.path.join(DATA_PATH, data_folder))    \n",
    "    print(f'{data_folder} has {len(files)} files in it')    \n",
    "    files_list.extend(list(map(lambda x:os.path.join(DATA_PATH, data_folder, x), files)))\n",
    "\n",
    "data_consolidated = []\n",
    "for item in files_list:\n",
    "    with open(item, 'r') as f:\n",
    "        data_consolidated.extend(json.load(f))\n",
    "\n",
    "data_consolidated[4]\n"
   ]
  },
  {
   "cell_type": "code",
   "execution_count": 4,
   "id": "296655ab-aac1-4a2c-9f55-fa55d6bc5bb5",
   "metadata": {},
   "outputs": [
    {
     "name": "stdout",
     "output_type": "stream",
     "text": [
      "training_data/json_files has 4184 files in it\n",
      "inspire_data has 5290 files in it\n",
      "reddit_data/reddit_data_1 has 2 files in it\n",
      "reddit_data/reddit_data_2/verified_data has 1 files in it\n",
      "Total files = 9477\n"
     ]
    }
   ],
   "source": [
    "\n",
    "files_list = []\n",
    "for data_folder in data_folders:\n",
    "    files = os.listdir(os.path.join(DATA_PATH, data_folder))    \n",
    "    print(f'{data_folder} has {len(files)} files in it')    \n",
    "    files_list.extend(list(map(lambda x:os.path.join(DATA_PATH, data_folder, x), files)))\n",
    "\n",
    "print(f'Total files = {len(files_list)}')\n"
   ]
  },
  {
   "cell_type": "code",
   "execution_count": 5,
   "id": "3ee0c113-c3b8-46bd-a469-73fbaa548507",
   "metadata": {},
   "outputs": [],
   "source": [
    "data_consolidated = []\n",
    "for item in files_list:\n",
    "    with open(item, 'r') as f:\n",
    "        data_consolidated.extend(json.load(f))\n",
    "        "
   ]
  },
  {
   "cell_type": "code",
   "execution_count": 6,
   "id": "89944b34-5954-4877-a81d-43e7a19c434d",
   "metadata": {},
   "outputs": [
    {
     "name": "stdout",
     "output_type": "stream",
     "text": [
      "Total data available for fine tuning = 17780\n"
     ]
    }
   ],
   "source": [
    "print(f'Total data available for fine tuning = {len(data_consolidated)}')\n"
   ]
  },
  {
   "cell_type": "code",
   "execution_count": 7,
   "id": "a0a1fe54-c8ec-4707-802f-75efe621da98",
   "metadata": {},
   "outputs": [],
   "source": [
    "with open(os.path.join(DATA_PATH, 'rare_disease_eds_data.json'), 'w') as f:\n",
    "    json.dump(data_consolidated, f)\n",
    "    "
   ]
  }
 ],
 "metadata": {
  "kernelspec": {
   "display_name": "Python 3 (ipykernel)",
   "language": "python",
   "name": "python3"
  },
  "language_info": {
   "codemirror_mode": {
    "name": "ipython",
    "version": 3
   },
   "file_extension": ".py",
   "mimetype": "text/x-python",
   "name": "python",
   "nbconvert_exporter": "python",
   "pygments_lexer": "ipython3",
   "version": "3.10.9"
  }
 },
 "nbformat": 4,
 "nbformat_minor": 5
}
