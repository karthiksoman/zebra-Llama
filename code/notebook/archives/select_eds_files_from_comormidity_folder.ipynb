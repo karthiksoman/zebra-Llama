{
 "cells": [
  {
   "cell_type": "code",
   "execution_count": 15,
   "id": "9c403d8d-d7cf-4956-bc9c-68cd84b4eb67",
   "metadata": {},
   "outputs": [],
   "source": [
    "import os\n",
    "import shutil\n",
    "import sys\n",
    "sys.path.insert(0,'..')\n",
    "from utility import REPO_ROOT_PATH\n"
   ]
  },
  {
   "cell_type": "code",
   "execution_count": 6,
   "id": "fe1e11ed-5743-4ad0-96f1-d826a6cdea8f",
   "metadata": {},
   "outputs": [],
   "source": [
    "FILE_PATH = os.path.join(REPO_ROOT_PATH, 'eds_data/data_sources/hackathon_provided_research_papers_pdf/', 'Sam Keating EDS and Comorbidities Dataset (PDF)')\n"
   ]
  },
  {
   "cell_type": "code",
   "execution_count": 7,
   "id": "1eed1094-187f-4df4-af67-ccc81c2df1df",
   "metadata": {},
   "outputs": [],
   "source": [
    "files = os.listdir(FILE_PATH)\n"
   ]
  },
  {
   "cell_type": "code",
   "execution_count": 11,
   "id": "9dd1979c-cf73-406b-86a3-8ec708016017",
   "metadata": {},
   "outputs": [],
   "source": [
    "sel_files = []\n",
    "for file in files:\n",
    "    if 'Ehler' in file:\n",
    "        sel_files.append(file)\n",
    "    if 'ehler' in file:\n",
    "        sel_files.append(file)\n",
    "        "
   ]
  },
  {
   "cell_type": "code",
   "execution_count": 17,
   "id": "ab755d72-e991-42e0-a1fa-a341298e0033",
   "metadata": {},
   "outputs": [],
   "source": [
    "for sel_file in sel_files:\n",
    "    source_file = os.path.join(FILE_PATH, sel_file)\n",
    "    dest_file = os.path.join(REPO_ROOT_PATH, 'eds_data/data_sources/hackathon_provided_research_papers_pdf/', 'selected_comorbidity_papers', sel_file)\n",
    "    shutil.copy(source_file, dest_file)\n",
    "    "
   ]
  },
  {
   "cell_type": "code",
   "execution_count": null,
   "id": "86d1c234-1392-41a8-963a-ec6957e9054f",
   "metadata": {},
   "outputs": [],
   "source": []
  }
 ],
 "metadata": {
  "kernelspec": {
   "display_name": "Python 3 (ipykernel)",
   "language": "python",
   "name": "python3"
  },
  "language_info": {
   "codemirror_mode": {
    "name": "ipython",
    "version": 3
   },
   "file_extension": ".py",
   "mimetype": "text/x-python",
   "name": "python",
   "nbconvert_exporter": "python",
   "pygments_lexer": "ipython3",
   "version": "3.10.9"
  }
 },
 "nbformat": 4,
 "nbformat_minor": 5
}
