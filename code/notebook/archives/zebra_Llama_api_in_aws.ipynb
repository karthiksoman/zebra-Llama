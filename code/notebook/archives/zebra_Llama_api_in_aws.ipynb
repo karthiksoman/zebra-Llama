{
 "cells": [
  {
   "cell_type": "code",
   "execution_count": 20,
   "id": "33cb3884-2343-4043-bed6-5d74670a87af",
   "metadata": {},
   "outputs": [],
   "source": [
    "import requests\n"
   ]
  },
  {
   "cell_type": "code",
   "execution_count": 21,
   "id": "504996c2-1756-40db-9264-ca46e0a700d1",
   "metadata": {},
   "outputs": [
    {
     "name": "stdout",
     "output_type": "stream",
     "text": [
      " Some of the proteins associated with EDS include collagen type I alpha 1 (COL1A1), collagen type I alpha 2 (COL1A2), collagen type III alpha 1 (COL3A1), collagen type V alpha 1 (COL5A1), and collagen type V alpha 2 (COL5A2). These proteins play a crucial role in the structure and function of connective tissues and are defective in patients with EDS. Other proteins associated with EDS include the procollagen-lysine, 2-oxoglutarate 5-dioxygenase 1 (PLOD1), the procollagen-lysine, 2-oxoglutarate 5-dioxygenase 2 (PLOD2), and the fibrillin 1 (FBN1) protein. These proteins are involved in the biosynthesis and processing of collagen fibrils and are essential components of connective tissues. Defects in these proteins can lead to the development of EDS in patients. \n",
      "    End of response\n",
      "CPU times: user 12.9 ms, sys: 4.06 ms, total: 17 ms\n",
      "Wall time: 15.3 s\n"
     ]
    }
   ],
   "source": [
    "%%time\n",
    "\n",
    "url = \"https://jfn1so7p7a.execute-api.us-west-1.amazonaws.com/Prod/inference\"\n",
    "headers = {\n",
    "    \"Content-Type\": \"application/json\"\n",
    "}\n",
    "data = {\n",
    "    \"text\": \"What proteins are associated with EDS?\"\n",
    "}\n",
    "\n",
    "response = requests.post(url, headers=headers, json=data)\n",
    "\n",
    "print(response.json())\n"
   ]
  },
  {
   "cell_type": "code",
   "execution_count": null,
   "id": "bc6100bb-c36b-4c5e-a4ce-85100301668e",
   "metadata": {},
   "outputs": [],
   "source": []
  }
 ],
 "metadata": {
  "kernelspec": {
   "display_name": "Python 3 (ipykernel)",
   "language": "python",
   "name": "python3"
  },
  "language_info": {
   "codemirror_mode": {
    "name": "ipython",
    "version": 3
   },
   "file_extension": ".py",
   "mimetype": "text/x-python",
   "name": "python",
   "nbconvert_exporter": "python",
   "pygments_lexer": "ipython3",
   "version": "3.10.9"
  }
 },
 "nbformat": 4,
 "nbformat_minor": 5
}
