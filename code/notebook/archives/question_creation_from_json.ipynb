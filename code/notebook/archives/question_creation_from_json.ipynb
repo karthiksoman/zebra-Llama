{
 "cells": [
  {
   "cell_type": "code",
   "execution_count": 1,
   "id": "71d177f9-3e6a-41b0-a3fe-c97cfddbcb46",
   "metadata": {},
   "outputs": [],
   "source": [
    "\n",
    "\n",
    "import fitz\n",
    "\n",
    "from pathlib import Path\n",
    "import json\n",
    "from tqdm import tqdm\n",
    "import os\n",
    "\n",
    "import sys\n",
    "sys.path.insert(0, '..')\n",
    "from utility import *\n"
   ]
  },
  {
   "cell_type": "markdown",
   "id": "8d3bc4b0-4625-46cc-9d78-7d55ac9195ee",
   "metadata": {},
   "source": [
    "## Define file paths"
   ]
  },
  {
   "cell_type": "code",
   "execution_count": 6,
   "id": "57279da8-638e-4aa3-a11c-47c7792cfd52",
   "metadata": {},
   "outputs": [],
   "source": [
    "DATA_PATH = os.path.join(REPO_ROOT_PATH, 'eds_data/data_sources/data_from_internet_search')\n",
    "\n",
    "FILENAME = 'eds_society_webcrawl.json'\n"
   ]
  },
  {
   "cell_type": "markdown",
   "id": "b5ae9242-f75b-4aae-8e4b-386e6096016b",
   "metadata": {},
   "source": [
    "## Load the JSON data (this assumes that your input data is in JSON format)"
   ]
  },
  {
   "cell_type": "code",
   "execution_count": 3,
   "id": "0771648b-365d-4532-a92c-196178a2855c",
   "metadata": {},
   "outputs": [],
   "source": [
    "with open(os.path.join(DATA_PATH, FILENAME), 'r') as f:\n",
    "    data = json.load(f)\n",
    "    "
   ]
  },
  {
   "cell_type": "markdown",
   "id": "520b1cd9-3a9f-4373-a866-6cb5a1403887",
   "metadata": {},
   "source": [
    "## Create questions from the text"
   ]
  },
  {
   "cell_type": "code",
   "execution_count": 4,
   "id": "648297da-fc5f-46d0-9e68-9c985c4aed62",
   "metadata": {},
   "outputs": [
    {
     "name": "stderr",
     "output_type": "stream",
     "text": [
      "100%|█████████████████████████████████████████████| 2/2 [00:15<00:00,  7.72s/it]"
     ]
    },
    {
     "name": "stdout",
     "output_type": "stream",
     "text": [
      "JSON decoding error: Extra data: line 1 column 2 (char 1)\n"
     ]
    },
    {
     "name": "stderr",
     "output_type": "stream",
     "text": [
      "\n"
     ]
    }
   ],
   "source": [
    "input_text = data[0]['text']\n",
    "text_chunks = split_text_to_chunks(input_text)\n",
    "questions_from_text = []\n",
    "for text_chunk in tqdm(text_chunks):\n",
    "    qa = create_question_from_text_v2(text_chunk, number_of_questions=3)\n",
    "    if isinstance(qa,list):\n",
    "        questions_from_text.extend(qa)\n",
    "\n"
   ]
  },
  {
   "cell_type": "code",
   "execution_count": 5,
   "id": "c2bc1e89-0637-4519-8997-e1da55904e0e",
   "metadata": {},
   "outputs": [
    {
     "data": {
      "text/plain": [
       "[{'instruction': 'What are the major criteria for classical EDS?',\n",
       "  'input': 'Classical EDS (cEDS)\\nMajor criteria are:\\nSkin hyperextensibility and atrophic scarring; and\\nGeneralized joint hypermobility (GJH).\\nThere are nine minor criteria. Minimal clinical standards suggesting cEDS are the first major criterion plus either the second major criterion or at least three minor criteria.\\nA final diagnosis requires confirmation by molecular testing. More than 90% of those with cEDS have a heterozygous mutation in one of the genes encoding type V collagen (COL5A1 and COL5A2). Rarely, specific mutations in the genes encoding type I collagen can be associated with the characteristics of cEDS. Classical EDS is inherited in the autosomal dominant pattern.',\n",
       "  'output': 'The major criteria for classical EDS are skin hyperextensibility and atrophic scarring, as well as generalized joint hypermobility (GJH). A diagnosis of classical EDS requires confirmation through molecular testing. In most cases, individuals with classical EDS have a heterozygous mutation in one of the genes encoding type V collagen. However, there are rare instances where specific mutations in the genes encoding type I collagen can also be associated with classical EDS. Classical EDS follows an autosomal dominant inheritance pattern.'},\n",
       " {'instruction': 'What are the major criteria for cardiac-valvular EDS?',\n",
       "  'input': 'Cardiac-valvular EDS (cvEDS)\\nMajor criteria are:\\nSevere progressive cardiac-valvular problems (aortic valve, mitral valve);\\nSkin involvement: skin hyperextensibility, atrophic scars, thin skin, easy bruising; and\\nJoint hypermobility (generalized or restricted to small joints).\\nThere are four minor criteria. Minimal clinical standards suggesting cvEDS are the first major criterion plus a family history compatible with autosomal recessive transmission, and either one other major criterion or at least two minor criteria.\\nA final diagnosis requires confirmation by molecular testing; cvEDS is caused by a complete lack of the proa2-chain of type I collagen due to biallelic COL1A2 mutations, that lead to nonsense-mediated mRNA decay. COL1A2 is the only gene associated with cvEDS. Cardiac-valvular EDS is inherited in the autosomal recessive pattern.',\n",
       "  'output': 'The major criteria for cardiac-valvular EDS are severe progressive cardiac-valvular problems (such as aortic valve and mitral valve issues), skin involvement (including skin hyperextensibility, atrophic scars, thin skin, and easy bruising), and joint hypermobility (which can be generalized or restricted to small joints). A diagnosis of cardiac-valvular EDS requires confirmation through molecular testing. This condition is caused by a complete lack of the proa2-chain of type I collagen due to biallelic mutations in the COL1A2 gene. Cardiac-valvular EDS follows an autosomal recessive inheritance pattern.'},\n",
       " {'instruction': 'What are the major criteria for vascular EDS?',\n",
       "  'input': 'Vascular EDS (vEDS)\\nMajor criteria are:\\nFamily history of vEDS with documented causative variant in COL3A1;\\nArterial rupture at a young age;\\nSpontaneous sigmoid colon perforation in the absence of known diverticular disease or other bowel pathology;\\nUterine rupture during the third trimester in the absence of previous C-section and/or severe peripartum perineum tears; and\\nCarotid-cavernous sinus fistula (CCSF) formation in the absence of trauma.\\nThere are twelve minor criteria. Minimal clinical standards suggesting vEDS diagnostic studies should be performed are: a family history of the disorder, arterial rupture or dissection in individuals less than 40 years of age; unexplained sigmoid colon rupture: or spontaneous pneumothorax in the presence of other features consistent with vEDS. Testing for vEDS should also be considered in the presence of a combination of the other “minor” criteria.\\nA final diagnosis requires confirmation by molecular testing. Patients with vEDS typically have a heterozygous mutation in the COL3A1 gene, with the rare exception of specific heterozygous arginine-to-cysteine substitution mutations in COL1A1 that are also associated with vascular fragility and mimic COL3A1-vEDS. In very rare instances, biallelic pathogenic variants in COL3A1 may be identified. Vascular EDS is inherited in the autosomal dominant pattern.',\n",
       "  'output': 'The major criteria for vascular EDS are a family history of vEDS with a documented causative variant in the COL3A1 gene, arterial rupture at a young age, spontaneous sigmoid colon perforation in the absence of known diverticular disease or other bowel pathology, uterine rupture during the third trimester in the absence of previous C-section and/or severe peripartum perineum tears, and carotid-cavernous sinus fistula (CCSF) formation in the absence of trauma. A diagnosis of vascular EDS requires confirmation through molecular testing. Most individuals with vEDS have a heterozygous mutation in the COL3A1 gene, although there are rare exceptions with specific heterozygous arginine-to-cysteine substitution mutations in COL1A1. In very rare cases, biallelic pathogenic variants in COL3A1 may be identified. Vascular EDS follows an autosomal dominant inheritance pattern.'}]"
      ]
     },
     "execution_count": 5,
     "metadata": {},
     "output_type": "execute_result"
    }
   ],
   "source": [
    "questions_from_text"
   ]
  },
  {
   "cell_type": "code",
   "execution_count": null,
   "id": "b40b91c2-5356-4682-9fed-da8c4d13565e",
   "metadata": {},
   "outputs": [],
   "source": []
  }
 ],
 "metadata": {
  "kernelspec": {
   "display_name": "Python 3 (ipykernel)",
   "language": "python",
   "name": "python3"
  },
  "language_info": {
   "codemirror_mode": {
    "name": "ipython",
    "version": 3
   },
   "file_extension": ".py",
   "mimetype": "text/x-python",
   "name": "python",
   "nbconvert_exporter": "python",
   "pygments_lexer": "ipython3",
   "version": "3.10.9"
  }
 },
 "nbformat": 4,
 "nbformat_minor": 5
}
