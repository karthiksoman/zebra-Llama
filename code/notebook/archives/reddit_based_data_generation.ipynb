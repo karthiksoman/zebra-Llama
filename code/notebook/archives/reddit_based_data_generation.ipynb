{
 "cells": [
  {
   "cell_type": "code",
   "execution_count": 1,
   "id": "bf5d9015-8e38-4925-a43c-7aaeeab5fc37",
   "metadata": {},
   "outputs": [],
   "source": [
    "import praw\n",
    "import os\n",
    "from dotenv import load_dotenv\n",
    "import sys\n",
    "sys.path.insert(0, '..')\n",
    "from utility import *\n",
    "from tqdm import tqdm\n"
   ]
  },
  {
   "cell_type": "code",
   "execution_count": 2,
   "id": "6fbd1c5d-c79e-4bc2-a6c6-c0912e61eaf8",
   "metadata": {},
   "outputs": [],
   "source": [
    "def check_relevance(post):\n",
    "    relevance_system_prompt = f'''\n",
    "    You are an excellent question validator. Verify if the post is relevant enough to address concerns about Ehlers-Danlos syndrome\n",
    "    If the post is about Ehlers-Danlos syndrome related symptoms or treatments or drugs or lifestyle, it can be considered relevant. \n",
    "    If the post is about something very vague, consider it as non-relevant.\n",
    "    If relevant, return the reponse as JSON\n",
    "    {{relevance : True, reason : <your reason>, post: {post.title}}}\n",
    "    else, return:\n",
    "    {{relevance : False,reason : <your reason>,post: {post.title}}}\n",
    "    '''\n",
    "    try:\n",
    "        response = get_GPT_response(post.title, relevance_system_prompt, os.environ.get('MODEL_NAME'), temperature=0.3)\n",
    "    except:\n",
    "        response = f'''\n",
    "            {{relevance : False,reason : 'GPT did not respond',post: {post.title}}}\n",
    "        '''\n",
    "    return response\n",
    "\n",
    "\n",
    "\n",
    "\n",
    "def summarize_comments(post):\n",
    "    comments = '\\n'.join(list(map(lambda x:x.body, post.comments.list())))\n",
    "    summarization_system_prompt = f'''\n",
    "        You are an expert in summarizing a text passage. Your job is to summarize the given text passage such that it captures the essence of the passage.\n",
    "        IMPORTANT: In your summary, make sure to include the statement that the information is based on public posts from online platforms. \n",
    "        Report your response in JSON format as follows:\n",
    "        {{instruction: {post.title}, output : <your summary>}}        \n",
    "    '''\n",
    "    try:\n",
    "        comments = 'Here is the input text passage to summarize: ' + comments\n",
    "        response = get_GPT_response(comments, summarization_system_prompt, os.environ.get('MODEL_NAME'), temperature=0.7)\n",
    "    except:\n",
    "        response = None\n",
    "    return response\n",
    "        "
   ]
  },
  {
   "cell_type": "code",
   "execution_count": 3,
   "id": "de42be78-a17e-41f7-9797-7df991a59192",
   "metadata": {},
   "outputs": [],
   "source": [
    "#Load environment variables (save a .eds.env file with your reddit credentials in the repo root folder)\n",
    "dotenv_path = os.path.join(REPO_ROOT_PATH, '.eds.env')\n",
    "load_dotenv(dotenv_path)\n",
    "\n",
    "client_id = os.environ.get('client_id')\n",
    "client_secret = os.environ.get('client_secret')\n",
    "user_agent = os.environ.get('user_agent')\n",
    "\n",
    "reddit = praw.Reddit(\n",
    "    client_id=client_id,\n",
    "    client_secret=client_secret,\n",
    "    user_agent=user_agent\n",
    ")"
   ]
  },
  {
   "cell_type": "code",
   "execution_count": 31,
   "id": "2da6cba1-70c6-4a8c-9f1e-77978e941383",
   "metadata": {},
   "outputs": [],
   "source": [
    "subreddit = reddit.subreddit('eds')\n",
    "\n",
    "search_query = 'Ehlers-Danlos syndrome diet'\n"
   ]
  },
  {
   "cell_type": "code",
   "execution_count": 32,
   "id": "c6d90e53-9634-4374-94ba-d9ccf4bb7a1b",
   "metadata": {},
   "outputs": [],
   "source": [
    "search_results = subreddit.search(search_query, sort='relevance', limit=1000)\n"
   ]
  },
  {
   "cell_type": "code",
   "execution_count": 33,
   "id": "b995a0d6-d879-4e29-98e6-fd69c0194210",
   "metadata": {},
   "outputs": [
    {
     "name": "stderr",
     "output_type": "stream",
     "text": [
      "60it [00:14,  4.21it/s]\n"
     ]
    }
   ],
   "source": [
    "\n",
    "summary_list = []\n",
    "for post in tqdm(search_results):\n",
    "    relevance = check_relevance(post)\n",
    "    try:\n",
    "        if json.loads(relevance)['relevance']:\n",
    "            summary = summarize_comments(post)\n",
    "            if summary:\n",
    "                try:\n",
    "                    summary_list.append(json.loads(summary))\n",
    "                except:\n",
    "                    continue\n",
    "    except:\n",
    "        continue\n",
    "            \n"
   ]
  },
  {
   "cell_type": "code",
   "execution_count": 50,
   "id": "9546cbc9-bfb5-454d-b6bf-8c49740a8a48",
   "metadata": {},
   "outputs": [
    {
     "data": {
      "text/plain": [
       "{'summary': 'The information provided is based on public posts from online platforms. The passage discusses the confusion around the use of a specific form for diagnosing hEDS in Canada and the lack of standardization in diagnosis. It also mentions the frustration with doctors who dismiss symptoms and the possibility of a genetic marker for hEDS. The post shares a link to the Ehlers-Danlos Society website, which is considered a good resource. It concludes by pointing out that doctors have the flexibility to make their own judgments in diagnosing hEDS, which can lead to inconsistent diagnoses.'}"
      ]
     },
     "execution_count": 50,
     "metadata": {},
     "output_type": "execute_result"
    }
   ],
   "source": [
    "summary_list[-14]"
   ]
  },
  {
   "cell_type": "code",
   "execution_count": null,
   "id": "5ac0270e-545f-4614-9e13-2f16cd7bc02a",
   "metadata": {},
   "outputs": [],
   "source": []
  }
 ],
 "metadata": {
  "kernelspec": {
   "display_name": "Python 3 (ipykernel)",
   "language": "python",
   "name": "python3"
  },
  "language_info": {
   "codemirror_mode": {
    "name": "ipython",
    "version": 3
   },
   "file_extension": ".py",
   "mimetype": "text/x-python",
   "name": "python",
   "nbconvert_exporter": "python",
   "pygments_lexer": "ipython3",
   "version": "3.10.9"
  }
 },
 "nbformat": 4,
 "nbformat_minor": 5
}
