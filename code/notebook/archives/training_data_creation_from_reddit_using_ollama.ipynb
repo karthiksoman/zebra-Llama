{
 "cells": [
  {
   "cell_type": "code",
   "execution_count": 19,
   "metadata": {},
   "outputs": [],
   "source": [
    "import os\n",
    "import csv\n",
    "import json\n",
    "import time\n",
    "from dotenv import load_dotenv\n",
    "from langchain_community.tools.reddit_search.tool import RedditSearchRun\n",
    "from langchain_community.utilities.reddit_search import RedditSearchAPIWrapper\n",
    "from langchain_community.tools.reddit_search.tool import RedditSearchSchema\n",
    "from langchain_community.llms import Ollama\n",
    "from tqdm import tqdm\n",
    "import sys\n",
    "sys.path.insert(0, '..')\n",
    "from utility import REPO_ROOT_PATH\n"
   ]
  },
  {
   "cell_type": "code",
   "execution_count": 2,
   "metadata": {},
   "outputs": [],
   "source": [
    "def load_questions(file_path):\n",
    "    \"\"\"\n",
    "    Load questions from a CSV file.\n",
    "\n",
    "    Args:\n",
    "        file_path (str): Path to the CSV file containing questions.\n",
    "\n",
    "    Returns:\n",
    "        list: A list of questions.\n",
    "    \"\"\"\n",
    "    questions = []\n",
    "    with open(file_path, newline='') as csvfile:\n",
    "        reader = csv.DictReader(csvfile)\n",
    "        for row in reader:\n",
    "            questions.append(row['question'])\n",
    "    return questions"
   ]
  },
  {
   "cell_type": "code",
   "execution_count": 3,
   "metadata": {},
   "outputs": [],
   "source": [
    "# Load questions from the CSV file\n",
    "questions = load_questions('../../eds_reddit/eds_questions_llm_generated.csv')"
   ]
  },
  {
   "cell_type": "code",
   "execution_count": 4,
   "metadata": {},
   "outputs": [
    {
     "data": {
      "text/plain": [
       "['Are there any specific dietary recommendations for individuals with EDS?',\n",
       " 'Can a high-protein diet help improve collagen production in EDS patients?',\n",
       " 'Should people with EDS avoid foods high in histamine?',\n",
       " 'Can a low-FODMAP diet alleviate gastrointestinal symptoms in EDS?',\n",
       " 'Are there any vitamins or supplements that can help manage EDS symptoms?',\n",
       " 'Can a gluten-free diet benefit individuals with EDS?',\n",
       " 'Should EDS patients limit their intake of caffeine and alcohol?',\n",
       " 'Can a diet rich in antioxidants help reduce inflammation in EDS?',\n",
       " 'Are there any specific foods that can exacerbate EDS symptoms?',\n",
       " 'Can a low-carb diet help with weight management in EDS patientsg Contraindications:']"
      ]
     },
     "execution_count": 4,
     "metadata": {},
     "output_type": "execute_result"
    }
   ],
   "source": [
    "#Try only 10\n",
    "questions = questions[:10]\n",
    "questions"
   ]
  },
  {
   "cell_type": "code",
   "execution_count": 11,
   "metadata": {},
   "outputs": [],
   "source": [
    "#Load environment variables (save a .eds.env file with your reddit credentials in the repo root folder)\n",
    "dotenv_path = os.path.join(REPO_ROOT_PATH, '.eds.env')\n",
    "load_dotenv(dotenv_path)\n",
    "\n",
    "client_id = os.environ.get('client_id')\n",
    "client_secret = os.environ.get('client_secret')\n",
    "user_agent = os.environ.get('user_agent')\n"
   ]
  },
  {
   "cell_type": "code",
   "execution_count": 12,
   "metadata": {},
   "outputs": [],
   "source": [
    "# Initialize the Reddit Search API wrapper\n",
    "search = RedditSearchRun(\n",
    "    api_wrapper=RedditSearchAPIWrapper(\n",
    "        reddit_client_id=client_id,\n",
    "        reddit_client_secret=client_secret,\n",
    "        reddit_user_agent=user_agent,\n",
    "    )\n",
    ")"
   ]
  },
  {
   "cell_type": "code",
   "execution_count": 13,
   "metadata": {},
   "outputs": [],
   "source": [
    "def search_reddit(query, sort_by=\"relevance\", time_filter=\"all\", subreddit=\"EhlersDanlos\", limit=3):\n",
    "    \"\"\"\n",
    "    Search Reddit for a given query.\n",
    "\n",
    "    Args:\n",
    "        query (str): The search query to use.\n",
    "        sort_by (str, optional): The sorting method for the search results.\n",
    "            Accepted values are \"relevance\", \"hot\", \"top\", \"new\", and \"comments\".\n",
    "        time_filter (str, optional): The time filter for the search results.\n",
    "            Accepted values are \"all\", \"year\", \"month\", \"week\", \"day\", and \"hour\".\n",
    "        subreddit (str, optional): The subreddit to search in.\n",
    "        limit (int, optional): The maximum number of search results to return.\n",
    "\n",
    "    Returns:\n",
    "        list: A list of dictionaries containing the search results from Reddit.\n",
    "    \"\"\"\n",
    "    search_params = RedditSearchSchema(\n",
    "        query=query,\n",
    "        sort=sort_by,\n",
    "        time_filter=time_filter,\n",
    "        subreddit=subreddit,\n",
    "        limit=limit\n",
    "    )\n",
    "    result = search.run(tool_input=search_params.dict())\n",
    "\n",
    "    # Convert the result string into a list of dictionaries\n",
    "    posts = []\n",
    "    if isinstance(result, str):\n",
    "        result_lines = result.split(\"\\n\\nPost Title: '\")\n",
    "\n",
    "        for i, post_str in enumerate(result_lines):\n",
    "            if i == 0:\n",
    "                # This is the first chunk, handle separately to remove leading text\n",
    "                post_str = post_str.split(\"Post Title: '\", 1)[-1]\n",
    "            \n",
    "            lines = post_str.strip().split(\"\\n\")\n",
    "            post = {}\n",
    "\n",
    "            # Reattach 'Post Title:' for the first line\n",
    "            if lines:\n",
    "                post[\"Post Title\"] = lines[0].strip(\"'\")\n",
    "\n",
    "            # Combine lines for the text body\n",
    "            text_body = []\n",
    "            for line in lines[1:]:\n",
    "                line = line.strip()\n",
    "                if \": \" in line:\n",
    "                    key, value = line.split(\": \", 1)\n",
    "                    if key.strip() == \"Text body\":\n",
    "                        text_body.append(value.strip())\n",
    "                    else:\n",
    "                        post[key.strip()] = value.strip()\n",
    "                else:\n",
    "                    text_body.append(line.strip())\n",
    "            \n",
    "            # Join the text body\n",
    "            post[\"Text body\"] = \" \".join(text_body).strip()\n",
    "            \n",
    "            posts.append(post)\n",
    "    \n",
    "    return posts"
   ]
  },
  {
   "cell_type": "code",
   "execution_count": 14,
   "metadata": {},
   "outputs": [],
   "source": [
    "# Initialize the model\n",
    "llm = Ollama(model=\"llama3\")"
   ]
  },
  {
   "cell_type": "code",
   "execution_count": 15,
   "metadata": {},
   "outputs": [],
   "source": [
    "def process_post(question, post):\n",
    "    \"\"\"\n",
    "    Confirm relevance of a post and generate structured output using LLM.\n",
    "    Args:\n",
    "        question (str): The question to confirm relevance against.\n",
    "        post (dict): The Reddit post to process.\n",
    "    Returns:\n",
    "        str or None: A summarized response if relevant, otherwise None.\n",
    "    \"\"\"\n",
    "    instruction = f\"Is the following post related to the question: '{question}'? If yes, say 'Yes, it is related to the question' and provide a summarized answer. If not, say 'No, it is not related to the question'.\"\n",
    "    input_text = post.get(\"Text body\", \"\")\n",
    "    prompt = f\"Instruction: {instruction}\\n\\nInput: {input_text}\\n\\nOutput:\"\n",
    "    \n",
    "    response = llm.invoke(prompt)\n",
    "    \n",
    "    if \"yes, it is related to the question\" in response.lower():\n",
    "        summarized_response = response.split(\"Summarized answer:\")[-1].strip() if \"Summarized answer:\" in response else response.split(\"Output:\")[-1].strip()\n",
    "        return summarized_response\n",
    "    return None"
   ]
  },
  {
   "cell_type": "code",
   "execution_count": 16,
   "metadata": {},
   "outputs": [],
   "source": [
    "def combine_responses(question, responses):\n",
    "    \"\"\"\n",
    "    Combine multiple responses into a single summarized answer using LLM.\n",
    "    Args:\n",
    "        question (str): The question being answered.\n",
    "        responses (list): A list of individual summarized responses.\n",
    "    Returns:\n",
    "        str: A single summarized answer.\n",
    "    \"\"\"\n",
    "    combined_input = \" \".join(responses)\n",
    "    prompt = f\"Instruction: Based on discussions on online platforms like Reddit, summarize the following responses to the question: '{question}'. In your summary, focus on the relevant information and avoid using phrases like 'the author of the post reported'. Instead, provide a summary of the key points.\\n\\nInput: {combined_input}\\n\\nOutput:\"\n",
    "\n",
    "    combined_response = llm.invoke(prompt)\n",
    "\n",
    "    return combined_response.strip()"
   ]
  },
  {
   "cell_type": "code",
   "execution_count": 20,
   "metadata": {},
   "outputs": [],
   "source": [
    "def search_and_process_questions(questions, delay=1):\n",
    "    \"\"\"\n",
    "    Search Reddit for each question and process the results.\n",
    "\n",
    "    Args:\n",
    "        questions (list): A list of questions to search and process.\n",
    "        delay (int): Delay in seconds between API requests to avoid rate limiting.\n",
    "\n",
    "    Returns:\n",
    "        list: A list of dictionaries containing processed results.\n",
    "    \"\"\"\n",
    "    final_results = []\n",
    "\n",
    "    for question in tqdm(questions):\n",
    "        reddit_results = search_reddit(question)\n",
    "        relevant_responses = []\n",
    "        for post in reddit_results:\n",
    "            processed_post = process_post(question, post)\n",
    "            if processed_post:\n",
    "                relevant_responses.append(processed_post)\n",
    "        \n",
    "        if relevant_responses:\n",
    "            combined_response = combine_responses(question, relevant_responses)\n",
    "            final_results.append({\n",
    "                \"input\":\"\",\n",
    "                \"instruction\": question,\n",
    "                \"output\": combined_response\n",
    "            })\n",
    "        \n",
    "        # Sleep to avoid hitting the API rate limit\n",
    "        time.sleep(delay)\n",
    "\n",
    "    return final_results"
   ]
  },
  {
   "cell_type": "code",
   "execution_count": 18,
   "metadata": {},
   "outputs": [],
   "source": [
    "def save_results_to_json(data, file_path):\n",
    "    \"\"\"\n",
    "    Save the processed results to a JSON file.\n",
    "\n",
    "    Args:\n",
    "        data (list): The data to save to JSON.\n",
    "        file_path (str): Path to the output JSON file.\n",
    "    \"\"\"\n",
    "    with open(file_path, 'w') as jsonfile:\n",
    "        json.dump(data, jsonfile, indent=4)"
   ]
  },
  {
   "cell_type": "code",
   "execution_count": 22,
   "metadata": {},
   "outputs": [],
   "source": [
    "final_results = search_and_process_questions(questions)"
   ]
  },
  {
   "cell_type": "code",
   "execution_count": 76,
   "metadata": {},
   "outputs": [],
   "source": [
    "# Save final output to JSON file:\n",
    "save_results_to_json(final_results, '../../eds_reddit/final_output.json')"
   ]
  },
  {
   "cell_type": "code",
   "execution_count": 79,
   "metadata": {},
   "outputs": [
    {
     "data": {
      "text/plain": [
       "[{'input': '',\n",
       "  'instruction': 'Are there any specific dietary recommendations for individuals with EDS?',\n",
       "  'output': 'Based on online discussions, specific dietary recommendations for individuals with Ehlers-Danlos Syndrome (EDS) are not widely established. However, some common themes emerged in the context of managing hand/wrist pain and overall well-being. Here is a summary of key points:\\n\\n* Some individuals with EDS report that a low-histamine diet or reducing histamine intake can help alleviate symptoms such as joint pain, fatigue, and digestive issues.\\n* Omega-3 fatty acids, particularly EPA and DHA, may be beneficial in reducing inflammation and improving overall health.\\n* A balanced diet rich in whole foods, fruits, vegetables, and lean proteins can help manage EDS symptoms.\\n* Avoiding or limiting processed foods, sugar, and gluten may also be helpful in reducing inflammation and promoting overall well-being.\\n* Some individuals have reported improved symptoms by following a diet that emphasizes gut health, such as incorporating probiotics, prebiotics, and fermented foods.\\n\\nIt is essential to note that these suggestions are not universally agreed upon and may vary depending on individual experiences. It is recommended that individuals with EDS consult with a healthcare professional or registered dietitian for personalized dietary guidance.'},\n",
       " {'input': '',\n",
       "  'instruction': 'Can a low-FODMAP diet alleviate gastrointestinal symptoms in EDS?',\n",
       "  'output': 'Here is a summary of the relevant information:\\n\\nA low-FODMAP diet can potentially alleviate gastrointestinal symptoms in individuals with Ehlers-Danlos Syndrome (EDS). The connection between EDS and digestive issues is highlighted, as multiple symptoms of sensitivity and discomfort are reported across various body parts. The mention of stomach sensitivity being managed through a low-FODMAP diet supports the idea that this dietary approach may be beneficial for gastrointestinal symptoms in EDS. Additionally, the discussion of dietary approaches, such as a low-histamine diet, that can impact digestive symptoms in individuals with hEDS and related conditions suggests that there may be overlap between these conditions and FODMAP-related issues.'},\n",
       " {'input': '',\n",
       "  'instruction': 'Can a gluten-free diet benefit individuals with EDS?',\n",
       "  'output': 'Here is a summary of the responses:\\n\\nSome individuals with Ehlers-Danlos Syndrome (EDS) have reported that a gluten-free diet can benefit their symptoms. One person found that adopting a gluten-free diet alleviated chronic fatigue, anxiety, emotional deregulation, brain fog, and depression after 9 months. While joint pain did not improve, overall quality of life significantly improved, allowing for increased energy and emotional stability.'},\n",
       " {'input': '',\n",
       "  'instruction': 'Can a diet rich in antioxidants help reduce inflammation in EDS?',\n",
       "  'output': 'Based on online discussions on Reddit, here\\'s a summary of responses related to the question \"Can a diet rich in antioxidants help reduce inflammation in EDS?\":\\n\\n**Potential benefits of antioxidants**\\n\\n* A diet rich in antioxidants may help mitigate chronic pain and fatigue associated with hEDS by reducing oxidative stress and inflammation.\\n* Antioxidants like polyphenols, flavonoids, and carotenoids can help neutralize free radicals that contribute to chronic inflammation.\\n\\n**Lack of direct evidence**\\n\\n* While some users reported improved symptoms after incorporating antioxidant-rich foods into their diet, there is limited scientific evidence specifically linking antioxidants to reduced inflammation in EDS.\\n* The relationship between antioxidants, inflammation, and hEDS remains unclear, and more research is needed to confirm any potential benefits.\\n\\n**Practical tips for incorporating antioxidants**\\n\\n* Focus on whole, unprocessed foods like fruits, vegetables, nuts, and seeds that are naturally rich in antioxidants.\\n* Incorporate antioxidant-rich spices and herbs into meals, such as turmeric, ginger, and green tea.\\n* Consider supplementing with omega-3 fatty acids, which have anti-inflammatory properties.\\n\\n**Important caveats**\\n\\n* A diet rich in antioxidants is just one aspect of overall health management. Other lifestyle factors, such as stress management, exercise, and sleep habits, also play a crucial role in managing hEDS symptoms.\\n* It\\'s essential to consult with a healthcare professional before making significant changes to your diet or supplement routine.\\n\\nOverall, while there is no conclusive evidence that antioxidants directly reduce inflammation in EDS, many users have reported improved symptoms by incorporating antioxidant-rich foods into their diet. As with any health-related advice, it\\'s crucial to approach this topic with an open mind and consult with a healthcare professional before making significant changes.'},\n",
       " {'input': '',\n",
       "  'instruction': 'Are there any specific foods that can exacerbate EDS symptoms?',\n",
       "  'output': 'Here is a summary of the relevant information:\\n\\nCertain foods can exacerbate EDS symptoms, such as:\\n\\n* High-FODMAP foods: Some individuals with EDS experience worsened symptoms after consuming high FODMAP foods like wheat, dairy, or certain fruits and vegetables.\\n* Gluten: A gluten-free diet may help alleviate symptoms for some people with EDS.\\n\\nNote that this information is not specifically mentioned in the original post, but it is relevant to the question of foods that can exacerbate EDS symptoms.'},\n",
       " {'input': '',\n",
       "  'instruction': 'Can a low-carb diet help with weight management in EDS patientsg Contraindications:',\n",
       "  'output': \"Here is a summary of the relevant information:\\n\\nSome individuals with Ehlers-Danlos Syndrome (EDS) have reported that losing weight has helped manage their chronic pain and mobility issues. However, there are concerns about achieving a specific weight range and seeking validation from others who have experienced similar challenges.\\n\\nIt's worth noting that these posts do not specifically address the question of whether a low-carb diet can help with weight management in EDS patients. Instead, they provide personal experiences and insights into the author's struggles with chronic pain and its treatment.\"}]"
      ]
     },
     "execution_count": 79,
     "metadata": {},
     "output_type": "execute_result"
    }
   ],
   "source": [
    "final_results"
   ]
  }
 ],
 "metadata": {
  "kernelspec": {
   "display_name": "Python 3 (ipykernel)",
   "language": "python",
   "name": "python3"
  },
  "language_info": {
   "codemirror_mode": {
    "name": "ipython",
    "version": 3
   },
   "file_extension": ".py",
   "mimetype": "text/x-python",
   "name": "python",
   "nbconvert_exporter": "python",
   "pygments_lexer": "ipython3",
   "version": "3.10.9"
  }
 },
 "nbformat": 4,
 "nbformat_minor": 4
}
