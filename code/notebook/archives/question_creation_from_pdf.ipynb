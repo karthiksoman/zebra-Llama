{
 "cells": [
  {
   "cell_type": "code",
   "execution_count": 1,
   "id": "a80dce84-959b-4ff5-97a2-6062ef299558",
   "metadata": {},
   "outputs": [],
   "source": [
    "\n",
    "\n",
    "import fitz\n",
    "\n",
    "from pathlib import Path\n",
    "import json\n",
    "from tqdm import tqdm\n",
    "import os\n",
    "\n",
    "import sys\n",
    "sys.path.insert(0, '..')\n",
    "from utility import *\n"
   ]
  },
  {
   "cell_type": "markdown",
   "id": "ea740db6-54a7-4149-8efe-8e6025656804",
   "metadata": {},
   "source": [
    "## Getting the names of papers stored"
   ]
  },
  {
   "cell_type": "code",
   "execution_count": 2,
   "id": "91dcae0f-fcc2-4f42-baef-0b65763c4c55",
   "metadata": {},
   "outputs": [],
   "source": [
    "DATA_PATH = os.path.join(REPO_ROOT_PATH, 'eds_data/data_sources/research_papers_pdf')\n",
    "paper_list = os.listdir(DATA_PATH)\n"
   ]
  },
  {
   "cell_type": "code",
   "execution_count": 3,
   "id": "e3c99f54-c85e-4da8-bbc0-26084f2ef70b",
   "metadata": {},
   "outputs": [],
   "source": [
    "if '.DS_Store' in paper_list:\n",
    "    paper_list.remove('.DS_Store')"
   ]
  },
  {
   "cell_type": "markdown",
   "id": "bf848356-7d6f-4f97-9fc9-13947cb6581a",
   "metadata": {},
   "source": [
    "## Create questions from each file"
   ]
  },
  {
   "cell_type": "code",
   "execution_count": 4,
   "id": "071659f9-31a6-43f2-9b4d-b6825f957b38",
   "metadata": {},
   "outputs": [
    {
     "name": "stderr",
     "output_type": "stream",
     "text": [
      "100%|█████████████████████████████████████████████| 4/4 [00:13<00:00,  3.31s/it]"
     ]
    },
    {
     "name": "stdout",
     "output_type": "stream",
     "text": [
      "8 Q&A are created\n",
      "CPU times: user 195 ms, sys: 59 ms, total: 254 ms\n",
      "Wall time: 13.3 s\n"
     ]
    },
    {
     "name": "stderr",
     "output_type": "stream",
     "text": [
      "\n"
     ]
    }
   ],
   "source": [
    "%%time\n",
    "'''\n",
    "Note: Here, we are creating 2 questions from the first page of each paper. \n",
    "This is because, Abstract of the paper is highly likeley to be in the first page. \n",
    "Hence, we can create questions from the summary of the paper, instead of going over the entire paper, to optimize the processing time\n",
    "'''\n",
    "\n",
    "qa_list = []\n",
    "paper_list = paper_list[0:4]\n",
    "for file in tqdm(paper_list):\n",
    "    try:\n",
    "        qa = create_question_from_file_v2(os.path.join(DATA_PATH, file), page_index=0, number_of_questions_per_page=2)\n",
    "        if isinstance(qa,list):\n",
    "            qa_list.extend(qa)\n",
    "    except ParseException as e:\n",
    "        print(e)\n",
    "\n",
    "print(f'{len(qa_list)} Q&A are created')\n"
   ]
  },
  {
   "cell_type": "code",
   "execution_count": 5,
   "id": "ce4e15d3-014b-400e-9d83-bfe62d4a922b",
   "metadata": {},
   "outputs": [
    {
     "data": {
      "text/plain": [
       "[{'instruction': 'What are the common gastrointestinal symptoms in individuals with hypermobile Ehlers–Danlos syndrome?',\n",
       "  'input': 'The prevalence of many gut symptoms, including abdominal pain (69% vs 27%, P < 0.0001), postprandial fullness (34% vs 16%, P = 0.01), constipation (73% vs 16%, P < 0.001), and diarrhea (47% vs 9%, P < 0.001) are signiﬁcantly higher in HSD/hEDS compared with non-HSD/hEDS individuals.',\n",
       "  'output': 'Individuals with hypermobile Ehlers–Danlos syndrome commonly experience gastrointestinal symptoms such as abdominal pain, postprandial fullness, constipation, and diarrhea. These symptoms have a higher prevalence in individuals with HSD/hEDS compared to those without the condition.'},\n",
       " {'instruction': 'What is the association between hypermobile Ehlers–Danlos syndrome and disorders of gut-brain interaction?',\n",
       "  'input': 'Many patients meet diagnostic criteria for disorders of gut-brain interaction (DGBI), but the pathophysiological link between DGBI and HSD/hEDS is yet to be established beyond association.',\n",
       "  'output': 'There is an association between hypermobile Ehlers–Danlos syndrome and disorders of gut-brain interaction (DGBI). Many patients with HSD/hEDS meet diagnostic criteria for DGBI, although the exact pathophysiological link between the two conditions is still not fully understood.'},\n",
       " {'instruction': 'What are the symptoms and comorbidities associated with hypermobile EDS?',\n",
       "  'input': 'In addition to joint hypermobility and skin issues, patients with hEDS may also present with fatigue, chronic pain, cardiovascular issues, bone mass issues, neurologic and spinal issues, psychological issues, and gastrointestinal (GI) symptoms.',\n",
       "  'output': 'Apart from joint hypermobility and skin issues, patients with hypermobile EDS may experience symptoms such as fatigue, chronic pain, cardiovascular issues, bone mass issues, neurologic and spinal issues, psychological issues, and gastrointestinal (GI) symptoms. These symptoms can vary in severity and frequency among patients.'},\n",
       " {'instruction': 'What is the recommended approach for managing pain in patients with hypermobile EDS?',\n",
       "  'input': 'A multidisciplinary approach, including nonpharmacologic pain management, physical therapy, occupational therapy, and psychological treatment alongside primary care interventions (eg, preventive care, therapeutic injections), has been recommended for managing pain in patients with hypermobile EDS.',\n",
       "  'output': 'The recommended approach for managing pain in patients with hypermobile EDS is a multidisciplinary approach. This includes nonpharmacologic pain management techniques, such as physical therapy, occupational therapy, and psychological treatment. Primary care interventions, such as preventive care and therapeutic injections, are also recommended. This comprehensive approach aims to address the various aspects of pain experienced by patients with hypermobile EDS.'},\n",
       " {'instruction': 'What is the most frequent type of Ehlers-Danlos syndrome?',\n",
       "  'input': 'Hypermobile Ehlers-Danlos syndrome (hEDS) is the most frequent type of EDS and is characterized by generalized joint hypermobility and musculoskeletal manifestations which are associated with chronic pain, and mild skin involvement along with the presence of more than a few comorbid conditions.',\n",
       "  'output': 'The most frequent type of Ehlers-Danlos syndrome is Hypermobile Ehlers-Danlos syndrome (hEDS). It is characterized by generalized joint hypermobility and musculoskeletal manifestations, chronic pain, and mild skin involvement. It is also associated with the presence of multiple comorbid conditions.'},\n",
       " {'instruction': 'What is the potential therapeutic target in Hypermobile Ehlers-Danlos syndrome?',\n",
       "  'input': 'We demonstrated that doxycycline-mediated inhibition of MMPs rescues in hEDS cells a control-like ECM organization and induces a partial reversal of their myoﬁbroblast-like features, thus offering encouraging clues for translational studies conﬁrming MMPs as a potential therapeutic target in hEDS with the expectation to improve patients’ quality of life and alleviate their disabilities.',\n",
       "  'output': \"The potential therapeutic target in Hypermobile Ehlers-Danlos syndrome is matrix metalloproteinases (MMPs). Doxycycline-mediated inhibition of MMPs can rescue the ECM organization and partially reverse the myoﬁbroblast-like features in hEDS cells. This offers encouraging clues for translational studies and has the potential to improve patients' quality of life and alleviate their disabilities.\"},\n",
       " {'instruction': 'What is the focus of the study?',\n",
       "  'input': 'Herein, we in-depth characterized the cellular phenotype and gene expression profile of hEDS and HSD dermal fibroblasts by immunofluorescence, amplicon-based RNA-seq, and qPCR. We demonstrated that both cell types show a common cellular trait, i.e., generalized extracellular matrix (ECM) disarray, myofibroblast differentiation, and dysregulated gene expression. Functional enrichment and pathway analyses clustered gene expression changes in different biological networks that are likely relevant for the disease pathophysiology.',\n",
       "  'output': 'The focus of the study is to characterize the cellular phenotype and gene expression profile of hEDS and HSD dermal fibroblasts. The study demonstrates that both cell types exhibit a common cellular trait, which includes generalized extracellular matrix disarray, myofibroblast differentiation, and dysregulated gene expression. The study also identifies different biological networks that are likely relevant for the disease pathophysiology through functional enrichment and pathway analyses.'},\n",
       " {'instruction': 'What is the proposed disease model based on the findings?',\n",
       "  'input': 'Based on these findings, we propose a disease model in which an unbalanced ECM remodeling triggers a vicious cycle with a synergistic contribution of ECM degradation products and proinflammatory mediators leading to a functional impairment of different connective tissues reflecting the multisystemic presentation of hEDS/HSD patients.',\n",
       "  'output': 'The proposed disease model based on the findings is that an unbalanced extracellular matrix (ECM) remodeling triggers a vicious cycle in hEDS/HSD patients. This cycle involves the synergistic contribution of ECM degradation products and proinflammatory mediators, which ultimately leads to a functional impairment of different connective tissues. This impairment is responsible for the multisystemic presentation observed in hEDS/HSD patients.'}]"
      ]
     },
     "execution_count": 5,
     "metadata": {},
     "output_type": "execute_result"
    }
   ],
   "source": [
    "\n",
    "qa_list\n"
   ]
  },
  {
   "cell_type": "code",
   "execution_count": null,
   "id": "7cec5f99-3c35-4539-ae8b-5fde59ac7c3e",
   "metadata": {},
   "outputs": [],
   "source": []
  },
  {
   "cell_type": "code",
   "execution_count": null,
   "id": "42caa345-9263-49d5-8058-d43ebb92db6a",
   "metadata": {},
   "outputs": [],
   "source": []
  },
  {
   "cell_type": "code",
   "execution_count": null,
   "id": "51e80218-038c-4c6b-91af-e061eab1bf13",
   "metadata": {},
   "outputs": [],
   "source": []
  }
 ],
 "metadata": {
  "kernelspec": {
   "display_name": "Python 3 (ipykernel)",
   "language": "python",
   "name": "python3"
  },
  "language_info": {
   "codemirror_mode": {
    "name": "ipython",
    "version": 3
   },
   "file_extension": ".py",
   "mimetype": "text/x-python",
   "name": "python",
   "nbconvert_exporter": "python",
   "pygments_lexer": "ipython3",
   "version": "3.10.9"
  }
 },
 "nbformat": 4,
 "nbformat_minor": 5
}
